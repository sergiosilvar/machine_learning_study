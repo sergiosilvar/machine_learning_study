{
 "cells": [
  {
   "cell_type": "code",
   "execution_count": 54,
   "metadata": {},
   "outputs": [],
   "source": [
    "from sklearn import datasets\n",
    "import pandas as pd\n",
    "from matplotlib import cm\n",
    "import matplotlib.pyplot as plt\n",
    "%matplotlib inline"
   ]
  },
  {
   "cell_type": "code",
   "execution_count": 2,
   "metadata": {},
   "outputs": [],
   "source": [
    "iris = datasets.load_iris()\n",
    "df = pd.DataFrame(iris.data, columns=iris.feature_names)\n",
    "df['target'] = iris.target\n",
    "df ['target_name'] = df.target.apply(lambda x: iris.target_names[x])\n",
    "df.columns = [i.replace(\" (cm)\",\"\").replace(\" \",\"_\") for i in  df.columns]"
   ]
  },
  {
   "cell_type": "code",
   "execution_count": 3,
   "metadata": {},
   "outputs": [],
   "source": [
    "from sklearn.model_selection import train_test_split\n",
    "df_train, df_test = train_test_split(df, stratify=df.target_name, test_size=0.4)"
   ]
  },
  {
   "cell_type": "code",
   "execution_count": 4,
   "metadata": {},
   "outputs": [],
   "source": [
    "X_train, y_train = df_train.iloc[:,:4], df_train.target\n",
    "X_test, y_test = df_test.iloc[:,:4], df_test.target"
   ]
  },
  {
   "cell_type": "code",
   "execution_count": 5,
   "metadata": {
    "scrolled": true
   },
   "outputs": [
    {
     "data": {
      "text/plain": [
       "dict_keys(['data', 'target', 'target_names', 'DESCR', 'feature_names', 'filename'])"
      ]
     },
     "execution_count": 5,
     "metadata": {},
     "output_type": "execute_result"
    }
   ],
   "source": [
    "iris.keys()"
   ]
  },
  {
   "cell_type": "code",
   "execution_count": 15,
   "metadata": {},
   "outputs": [
    {
     "data": {
      "text/plain": [
       "['sepal length (cm)',\n",
       " 'sepal width (cm)',\n",
       " 'petal length (cm)',\n",
       " 'petal width (cm)']"
      ]
     },
     "execution_count": 15,
     "metadata": {},
     "output_type": "execute_result"
    }
   ],
   "source": [
    "iris.feature_names"
   ]
  },
  {
   "cell_type": "code",
   "execution_count": 67,
   "metadata": {},
   "outputs": [
    {
     "data": {
      "text/html": [
       "\n",
       "    <div class=\"bk-root\">\n",
       "        <a href=\"https://bokeh.pydata.org\" target=\"_blank\" class=\"bk-logo bk-logo-small bk-logo-notebook\"></a>\n",
       "        <span id=\"1814\">Loading BokehJS ...</span>\n",
       "    </div>"
      ]
     },
     "metadata": {},
     "output_type": "display_data"
    },
    {
     "data": {
      "application/javascript": [
       "\n",
       "(function(root) {\n",
       "  function now() {\n",
       "    return new Date();\n",
       "  }\n",
       "\n",
       "  var force = true;\n",
       "\n",
       "  if (typeof root._bokeh_onload_callbacks === \"undefined\" || force === true) {\n",
       "    root._bokeh_onload_callbacks = [];\n",
       "    root._bokeh_is_loading = undefined;\n",
       "  }\n",
       "\n",
       "  var JS_MIME_TYPE = 'application/javascript';\n",
       "  var HTML_MIME_TYPE = 'text/html';\n",
       "  var EXEC_MIME_TYPE = 'application/vnd.bokehjs_exec.v0+json';\n",
       "  var CLASS_NAME = 'output_bokeh rendered_html';\n",
       "\n",
       "  /**\n",
       "   * Render data to the DOM node\n",
       "   */\n",
       "  function render(props, node) {\n",
       "    var script = document.createElement(\"script\");\n",
       "    node.appendChild(script);\n",
       "  }\n",
       "\n",
       "  /**\n",
       "   * Handle when an output is cleared or removed\n",
       "   */\n",
       "  function handleClearOutput(event, handle) {\n",
       "    var cell = handle.cell;\n",
       "\n",
       "    var id = cell.output_area._bokeh_element_id;\n",
       "    var server_id = cell.output_area._bokeh_server_id;\n",
       "    // Clean up Bokeh references\n",
       "    if (id != null && id in Bokeh.index) {\n",
       "      Bokeh.index[id].model.document.clear();\n",
       "      delete Bokeh.index[id];\n",
       "    }\n",
       "\n",
       "    if (server_id !== undefined) {\n",
       "      // Clean up Bokeh references\n",
       "      var cmd = \"from bokeh.io.state import curstate; print(curstate().uuid_to_server['\" + server_id + \"'].get_sessions()[0].document.roots[0]._id)\";\n",
       "      cell.notebook.kernel.execute(cmd, {\n",
       "        iopub: {\n",
       "          output: function(msg) {\n",
       "            var id = msg.content.text.trim();\n",
       "            if (id in Bokeh.index) {\n",
       "              Bokeh.index[id].model.document.clear();\n",
       "              delete Bokeh.index[id];\n",
       "            }\n",
       "          }\n",
       "        }\n",
       "      });\n",
       "      // Destroy server and session\n",
       "      var cmd = \"import bokeh.io.notebook as ion; ion.destroy_server('\" + server_id + \"')\";\n",
       "      cell.notebook.kernel.execute(cmd);\n",
       "    }\n",
       "  }\n",
       "\n",
       "  /**\n",
       "   * Handle when a new output is added\n",
       "   */\n",
       "  function handleAddOutput(event, handle) {\n",
       "    var output_area = handle.output_area;\n",
       "    var output = handle.output;\n",
       "\n",
       "    // limit handleAddOutput to display_data with EXEC_MIME_TYPE content only\n",
       "    if ((output.output_type != \"display_data\") || (!output.data.hasOwnProperty(EXEC_MIME_TYPE))) {\n",
       "      return\n",
       "    }\n",
       "\n",
       "    var toinsert = output_area.element.find(\".\" + CLASS_NAME.split(' ')[0]);\n",
       "\n",
       "    if (output.metadata[EXEC_MIME_TYPE][\"id\"] !== undefined) {\n",
       "      toinsert[toinsert.length - 1].firstChild.textContent = output.data[JS_MIME_TYPE];\n",
       "      // store reference to embed id on output_area\n",
       "      output_area._bokeh_element_id = output.metadata[EXEC_MIME_TYPE][\"id\"];\n",
       "    }\n",
       "    if (output.metadata[EXEC_MIME_TYPE][\"server_id\"] !== undefined) {\n",
       "      var bk_div = document.createElement(\"div\");\n",
       "      bk_div.innerHTML = output.data[HTML_MIME_TYPE];\n",
       "      var script_attrs = bk_div.children[0].attributes;\n",
       "      for (var i = 0; i < script_attrs.length; i++) {\n",
       "        toinsert[toinsert.length - 1].firstChild.setAttribute(script_attrs[i].name, script_attrs[i].value);\n",
       "      }\n",
       "      // store reference to server id on output_area\n",
       "      output_area._bokeh_server_id = output.metadata[EXEC_MIME_TYPE][\"server_id\"];\n",
       "    }\n",
       "  }\n",
       "\n",
       "  function register_renderer(events, OutputArea) {\n",
       "\n",
       "    function append_mime(data, metadata, element) {\n",
       "      // create a DOM node to render to\n",
       "      var toinsert = this.create_output_subarea(\n",
       "        metadata,\n",
       "        CLASS_NAME,\n",
       "        EXEC_MIME_TYPE\n",
       "      );\n",
       "      this.keyboard_manager.register_events(toinsert);\n",
       "      // Render to node\n",
       "      var props = {data: data, metadata: metadata[EXEC_MIME_TYPE]};\n",
       "      render(props, toinsert[toinsert.length - 1]);\n",
       "      element.append(toinsert);\n",
       "      return toinsert\n",
       "    }\n",
       "\n",
       "    /* Handle when an output is cleared or removed */\n",
       "    events.on('clear_output.CodeCell', handleClearOutput);\n",
       "    events.on('delete.Cell', handleClearOutput);\n",
       "\n",
       "    /* Handle when a new output is added */\n",
       "    events.on('output_added.OutputArea', handleAddOutput);\n",
       "\n",
       "    /**\n",
       "     * Register the mime type and append_mime function with output_area\n",
       "     */\n",
       "    OutputArea.prototype.register_mime_type(EXEC_MIME_TYPE, append_mime, {\n",
       "      /* Is output safe? */\n",
       "      safe: true,\n",
       "      /* Index of renderer in `output_area.display_order` */\n",
       "      index: 0\n",
       "    });\n",
       "  }\n",
       "\n",
       "  // register the mime type if in Jupyter Notebook environment and previously unregistered\n",
       "  if (root.Jupyter !== undefined) {\n",
       "    var events = require('base/js/events');\n",
       "    var OutputArea = require('notebook/js/outputarea').OutputArea;\n",
       "\n",
       "    if (OutputArea.prototype.mime_types().indexOf(EXEC_MIME_TYPE) == -1) {\n",
       "      register_renderer(events, OutputArea);\n",
       "    }\n",
       "  }\n",
       "\n",
       "  \n",
       "  if (typeof (root._bokeh_timeout) === \"undefined\" || force === true) {\n",
       "    root._bokeh_timeout = Date.now() + 5000;\n",
       "    root._bokeh_failed_load = false;\n",
       "  }\n",
       "\n",
       "  var NB_LOAD_WARNING = {'data': {'text/html':\n",
       "     \"<div style='background-color: #fdd'>\\n\"+\n",
       "     \"<p>\\n\"+\n",
       "     \"BokehJS does not appear to have successfully loaded. If loading BokehJS from CDN, this \\n\"+\n",
       "     \"may be due to a slow or bad network connection. Possible fixes:\\n\"+\n",
       "     \"</p>\\n\"+\n",
       "     \"<ul>\\n\"+\n",
       "     \"<li>re-rerun `output_notebook()` to attempt to load from CDN again, or</li>\\n\"+\n",
       "     \"<li>use INLINE resources instead, as so:</li>\\n\"+\n",
       "     \"</ul>\\n\"+\n",
       "     \"<code>\\n\"+\n",
       "     \"from bokeh.resources import INLINE\\n\"+\n",
       "     \"output_notebook(resources=INLINE)\\n\"+\n",
       "     \"</code>\\n\"+\n",
       "     \"</div>\"}};\n",
       "\n",
       "  function display_loaded() {\n",
       "    var el = document.getElementById(\"1814\");\n",
       "    if (el != null) {\n",
       "      el.textContent = \"BokehJS is loading...\";\n",
       "    }\n",
       "    if (root.Bokeh !== undefined) {\n",
       "      if (el != null) {\n",
       "        el.textContent = \"BokehJS \" + root.Bokeh.version + \" successfully loaded.\";\n",
       "      }\n",
       "    } else if (Date.now() < root._bokeh_timeout) {\n",
       "      setTimeout(display_loaded, 100)\n",
       "    }\n",
       "  }\n",
       "\n",
       "\n",
       "  function run_callbacks() {\n",
       "    try {\n",
       "      root._bokeh_onload_callbacks.forEach(function(callback) {\n",
       "        if (callback != null)\n",
       "          callback();\n",
       "      });\n",
       "    } finally {\n",
       "      delete root._bokeh_onload_callbacks\n",
       "    }\n",
       "    console.debug(\"Bokeh: all callbacks have finished\");\n",
       "  }\n",
       "\n",
       "  function load_libs(css_urls, js_urls, callback) {\n",
       "    if (css_urls == null) css_urls = [];\n",
       "    if (js_urls == null) js_urls = [];\n",
       "\n",
       "    root._bokeh_onload_callbacks.push(callback);\n",
       "    if (root._bokeh_is_loading > 0) {\n",
       "      console.debug(\"Bokeh: BokehJS is being loaded, scheduling callback at\", now());\n",
       "      return null;\n",
       "    }\n",
       "    if (js_urls == null || js_urls.length === 0) {\n",
       "      run_callbacks();\n",
       "      return null;\n",
       "    }\n",
       "    console.debug(\"Bokeh: BokehJS not loaded, scheduling load and callback at\", now());\n",
       "    root._bokeh_is_loading = css_urls.length + js_urls.length;\n",
       "\n",
       "    function on_load() {\n",
       "      root._bokeh_is_loading--;\n",
       "      if (root._bokeh_is_loading === 0) {\n",
       "        console.debug(\"Bokeh: all BokehJS libraries/stylesheets loaded\");\n",
       "        run_callbacks()\n",
       "      }\n",
       "    }\n",
       "\n",
       "    function on_error() {\n",
       "      console.error(\"failed to load \" + url);\n",
       "    }\n",
       "\n",
       "    for (var i = 0; i < css_urls.length; i++) {\n",
       "      var url = css_urls[i];\n",
       "      const element = document.createElement(\"link\");\n",
       "      element.onload = on_load;\n",
       "      element.onerror = on_error;\n",
       "      element.rel = \"stylesheet\";\n",
       "      element.type = \"text/css\";\n",
       "      element.href = url;\n",
       "      console.debug(\"Bokeh: injecting link tag for BokehJS stylesheet: \", url);\n",
       "      document.body.appendChild(element);\n",
       "    }\n",
       "\n",
       "    for (var i = 0; i < js_urls.length; i++) {\n",
       "      var url = js_urls[i];\n",
       "      var element = document.createElement('script');\n",
       "      element.onload = on_load;\n",
       "      element.onerror = on_error;\n",
       "      element.async = false;\n",
       "      element.src = url;\n",
       "      console.debug(\"Bokeh: injecting script tag for BokehJS library: \", url);\n",
       "      document.head.appendChild(element);\n",
       "    }\n",
       "  };var element = document.getElementById(\"1814\");\n",
       "  if (element == null) {\n",
       "    console.error(\"Bokeh: ERROR: autoload.js configured with elementid '1814' but no matching script tag was found. \")\n",
       "    return false;\n",
       "  }\n",
       "\n",
       "  function inject_raw_css(css) {\n",
       "    const element = document.createElement(\"style\");\n",
       "    element.appendChild(document.createTextNode(css));\n",
       "    document.body.appendChild(element);\n",
       "  }\n",
       "\n",
       "  var js_urls = [\"https://cdn.pydata.org/bokeh/release/bokeh-1.3.4.min.js\", \"https://cdn.pydata.org/bokeh/release/bokeh-widgets-1.3.4.min.js\", \"https://cdn.pydata.org/bokeh/release/bokeh-tables-1.3.4.min.js\", \"https://cdn.pydata.org/bokeh/release/bokeh-gl-1.3.4.min.js\"];\n",
       "  var css_urls = [];\n",
       "\n",
       "  var inline_js = [\n",
       "    function(Bokeh) {\n",
       "      Bokeh.set_log_level(\"info\");\n",
       "    },\n",
       "    \n",
       "    function(Bokeh) {\n",
       "      \n",
       "    },\n",
       "    function(Bokeh) {} // ensure no trailing comma for IE\n",
       "  ];\n",
       "\n",
       "  function run_inline_js() {\n",
       "    \n",
       "    if ((root.Bokeh !== undefined) || (force === true)) {\n",
       "      for (var i = 0; i < inline_js.length; i++) {\n",
       "        inline_js[i].call(root, root.Bokeh);\n",
       "      }if (force === true) {\n",
       "        display_loaded();\n",
       "      }} else if (Date.now() < root._bokeh_timeout) {\n",
       "      setTimeout(run_inline_js, 100);\n",
       "    } else if (!root._bokeh_failed_load) {\n",
       "      console.log(\"Bokeh: BokehJS failed to load within specified timeout.\");\n",
       "      root._bokeh_failed_load = true;\n",
       "    } else if (force !== true) {\n",
       "      var cell = $(document.getElementById(\"1814\")).parents('.cell').data().cell;\n",
       "      cell.output_area.append_execute_result(NB_LOAD_WARNING)\n",
       "    }\n",
       "\n",
       "  }\n",
       "\n",
       "  if (root._bokeh_is_loading === 0) {\n",
       "    console.debug(\"Bokeh: BokehJS loaded, going straight to plotting\");\n",
       "    run_inline_js();\n",
       "  } else {\n",
       "    load_libs(css_urls, js_urls, function() {\n",
       "      console.debug(\"Bokeh: BokehJS plotting callback run at\", now());\n",
       "      run_inline_js();\n",
       "    });\n",
       "  }\n",
       "}(window));"
      ],
      "application/vnd.bokehjs_load.v0+json": "\n(function(root) {\n  function now() {\n    return new Date();\n  }\n\n  var force = true;\n\n  if (typeof root._bokeh_onload_callbacks === \"undefined\" || force === true) {\n    root._bokeh_onload_callbacks = [];\n    root._bokeh_is_loading = undefined;\n  }\n\n  \n\n  \n  if (typeof (root._bokeh_timeout) === \"undefined\" || force === true) {\n    root._bokeh_timeout = Date.now() + 5000;\n    root._bokeh_failed_load = false;\n  }\n\n  var NB_LOAD_WARNING = {'data': {'text/html':\n     \"<div style='background-color: #fdd'>\\n\"+\n     \"<p>\\n\"+\n     \"BokehJS does not appear to have successfully loaded. If loading BokehJS from CDN, this \\n\"+\n     \"may be due to a slow or bad network connection. Possible fixes:\\n\"+\n     \"</p>\\n\"+\n     \"<ul>\\n\"+\n     \"<li>re-rerun `output_notebook()` to attempt to load from CDN again, or</li>\\n\"+\n     \"<li>use INLINE resources instead, as so:</li>\\n\"+\n     \"</ul>\\n\"+\n     \"<code>\\n\"+\n     \"from bokeh.resources import INLINE\\n\"+\n     \"output_notebook(resources=INLINE)\\n\"+\n     \"</code>\\n\"+\n     \"</div>\"}};\n\n  function display_loaded() {\n    var el = document.getElementById(\"1814\");\n    if (el != null) {\n      el.textContent = \"BokehJS is loading...\";\n    }\n    if (root.Bokeh !== undefined) {\n      if (el != null) {\n        el.textContent = \"BokehJS \" + root.Bokeh.version + \" successfully loaded.\";\n      }\n    } else if (Date.now() < root._bokeh_timeout) {\n      setTimeout(display_loaded, 100)\n    }\n  }\n\n\n  function run_callbacks() {\n    try {\n      root._bokeh_onload_callbacks.forEach(function(callback) {\n        if (callback != null)\n          callback();\n      });\n    } finally {\n      delete root._bokeh_onload_callbacks\n    }\n    console.debug(\"Bokeh: all callbacks have finished\");\n  }\n\n  function load_libs(css_urls, js_urls, callback) {\n    if (css_urls == null) css_urls = [];\n    if (js_urls == null) js_urls = [];\n\n    root._bokeh_onload_callbacks.push(callback);\n    if (root._bokeh_is_loading > 0) {\n      console.debug(\"Bokeh: BokehJS is being loaded, scheduling callback at\", now());\n      return null;\n    }\n    if (js_urls == null || js_urls.length === 0) {\n      run_callbacks();\n      return null;\n    }\n    console.debug(\"Bokeh: BokehJS not loaded, scheduling load and callback at\", now());\n    root._bokeh_is_loading = css_urls.length + js_urls.length;\n\n    function on_load() {\n      root._bokeh_is_loading--;\n      if (root._bokeh_is_loading === 0) {\n        console.debug(\"Bokeh: all BokehJS libraries/stylesheets loaded\");\n        run_callbacks()\n      }\n    }\n\n    function on_error() {\n      console.error(\"failed to load \" + url);\n    }\n\n    for (var i = 0; i < css_urls.length; i++) {\n      var url = css_urls[i];\n      const element = document.createElement(\"link\");\n      element.onload = on_load;\n      element.onerror = on_error;\n      element.rel = \"stylesheet\";\n      element.type = \"text/css\";\n      element.href = url;\n      console.debug(\"Bokeh: injecting link tag for BokehJS stylesheet: \", url);\n      document.body.appendChild(element);\n    }\n\n    for (var i = 0; i < js_urls.length; i++) {\n      var url = js_urls[i];\n      var element = document.createElement('script');\n      element.onload = on_load;\n      element.onerror = on_error;\n      element.async = false;\n      element.src = url;\n      console.debug(\"Bokeh: injecting script tag for BokehJS library: \", url);\n      document.head.appendChild(element);\n    }\n  };var element = document.getElementById(\"1814\");\n  if (element == null) {\n    console.error(\"Bokeh: ERROR: autoload.js configured with elementid '1814' but no matching script tag was found. \")\n    return false;\n  }\n\n  function inject_raw_css(css) {\n    const element = document.createElement(\"style\");\n    element.appendChild(document.createTextNode(css));\n    document.body.appendChild(element);\n  }\n\n  var js_urls = [\"https://cdn.pydata.org/bokeh/release/bokeh-1.3.4.min.js\", \"https://cdn.pydata.org/bokeh/release/bokeh-widgets-1.3.4.min.js\", \"https://cdn.pydata.org/bokeh/release/bokeh-tables-1.3.4.min.js\", \"https://cdn.pydata.org/bokeh/release/bokeh-gl-1.3.4.min.js\"];\n  var css_urls = [];\n\n  var inline_js = [\n    function(Bokeh) {\n      Bokeh.set_log_level(\"info\");\n    },\n    \n    function(Bokeh) {\n      \n    },\n    function(Bokeh) {} // ensure no trailing comma for IE\n  ];\n\n  function run_inline_js() {\n    \n    if ((root.Bokeh !== undefined) || (force === true)) {\n      for (var i = 0; i < inline_js.length; i++) {\n        inline_js[i].call(root, root.Bokeh);\n      }if (force === true) {\n        display_loaded();\n      }} else if (Date.now() < root._bokeh_timeout) {\n      setTimeout(run_inline_js, 100);\n    } else if (!root._bokeh_failed_load) {\n      console.log(\"Bokeh: BokehJS failed to load within specified timeout.\");\n      root._bokeh_failed_load = true;\n    } else if (force !== true) {\n      var cell = $(document.getElementById(\"1814\")).parents('.cell').data().cell;\n      cell.output_area.append_execute_result(NB_LOAD_WARNING)\n    }\n\n  }\n\n  if (root._bokeh_is_loading === 0) {\n    console.debug(\"Bokeh: BokehJS loaded, going straight to plotting\");\n    run_inline_js();\n  } else {\n    load_libs(css_urls, js_urls, function() {\n      console.debug(\"Bokeh: BokehJS plotting callback run at\", now());\n      run_inline_js();\n    });\n  }\n}(window));"
     },
     "metadata": {},
     "output_type": "display_data"
    }
   ],
   "source": [
    "from bokeh.io import output_notebook\n",
    "from bokeh.plotting import figure, show, gridplot\n",
    "from bokeh.models import ColumnDataSource, Legend\n",
    "from bokeh.transform import factor_cmap, factor_mark\n",
    "output_notebook()"
   ]
  },
  {
   "cell_type": "code",
   "execution_count": 68,
   "metadata": {},
   "outputs": [
    {
     "data": {
      "text/html": [
       "\n",
       "\n",
       "\n",
       "\n",
       "\n",
       "\n",
       "  <div class=\"bk-root\" id=\"d53a3f22-61db-4e0f-8a3f-198e7a56b58d\" data-root-id=\"2019\"></div>\n"
      ]
     },
     "metadata": {},
     "output_type": "display_data"
    },
    {
     "data": {
      "application/javascript": [
       "(function(root) {\n",
       "  function embed_document(root) {\n",
       "    \n",
       "  var docs_json = {\"63af6c8c-86f2-48c1-a0b8-346faaa9d986\":{\"roots\":{\"references\":[{\"attributes\":{\"children\":[{\"id\":\"2018\",\"type\":\"ToolbarBox\"},{\"id\":\"2016\",\"type\":\"GridBox\"}]},\"id\":\"2019\",\"type\":\"Column\"},{\"attributes\":{\"dimension\":1,\"ticker\":{\"id\":\"1910\",\"type\":\"BasicTicker\"}},\"id\":\"1913\",\"type\":\"Grid\"},{\"attributes\":{\"fill_alpha\":{\"value\":0.5},\"fill_color\":{\"field\":\"target_name\",\"transform\":{\"id\":\"1849\",\"type\":\"CategoricalColorMapper\"}},\"line_alpha\":{\"value\":0.5},\"line_color\":{\"field\":\"target_name\",\"transform\":{\"id\":\"1849\",\"type\":\"CategoricalColorMapper\"}},\"size\":{\"units\":\"screen\",\"value\":10},\"x\":{\"field\":\"sepal_length\"},\"y\":{\"field\":\"sepal_width\"}},\"id\":\"1851\",\"type\":\"Scatter\"},{\"attributes\":{},\"id\":\"1836\",\"type\":\"PanTool\"},{\"attributes\":{\"fill_alpha\":{\"value\":0.5},\"fill_color\":{\"field\":\"target_name\",\"transform\":{\"id\":\"1927\",\"type\":\"CategoricalColorMapper\"}},\"line_alpha\":{\"value\":0.5},\"line_color\":{\"field\":\"target_name\",\"transform\":{\"id\":\"1927\",\"type\":\"CategoricalColorMapper\"}},\"size\":{\"units\":\"screen\",\"value\":10},\"x\":{\"field\":\"sepal_length\"},\"y\":{\"field\":\"petal_width\"}},\"id\":\"1929\",\"type\":\"Scatter\"},{\"attributes\":{},\"id\":\"1964\",\"type\":\"SaveTool\"},{\"attributes\":{},\"id\":\"1837\",\"type\":\"WheelZoomTool\"},{\"attributes\":{\"overlay\":{\"id\":\"1985\",\"type\":\"BoxAnnotation\"}},\"id\":\"1838\",\"type\":\"BoxZoomTool\"},{\"attributes\":{},\"id\":\"1914\",\"type\":\"PanTool\"},{\"attributes\":{},\"id\":\"1839\",\"type\":\"SaveTool\"},{\"attributes\":{},\"id\":\"1915\",\"type\":\"WheelZoomTool\"},{\"attributes\":{},\"id\":\"1840\",\"type\":\"ResetTool\"},{\"attributes\":{\"overlay\":{\"id\":\"1938\",\"type\":\"BoxAnnotation\"}},\"id\":\"1916\",\"type\":\"BoxZoomTool\"},{\"attributes\":{\"below\":[{\"id\":\"1826\",\"type\":\"LinearAxis\"}],\"center\":[{\"id\":\"1830\",\"type\":\"Grid\"},{\"id\":\"1835\",\"type\":\"Grid\"}],\"left\":[{\"id\":\"1831\",\"type\":\"LinearAxis\"}],\"plot_height\":300,\"plot_width\":300,\"renderers\":[{\"id\":\"1853\",\"type\":\"GlyphRenderer\"}],\"title\":null,\"toolbar\":{\"id\":\"1842\",\"type\":\"Toolbar\"},\"toolbar_location\":null,\"x_range\":{\"id\":\"1818\",\"type\":\"DataRange1d\"},\"x_scale\":{\"id\":\"1822\",\"type\":\"LinearScale\"},\"y_range\":{\"id\":\"1820\",\"type\":\"DataRange1d\"},\"y_scale\":{\"id\":\"1824\",\"type\":\"LinearScale\"}},\"id\":\"1816\",\"subtype\":\"Figure\",\"type\":\"Plot\"},{\"attributes\":{},\"id\":\"1841\",\"type\":\"HelpTool\"},{\"attributes\":{},\"id\":\"1917\",\"type\":\"SaveTool\"},{\"attributes\":{},\"id\":\"1918\",\"type\":\"ResetTool\"},{\"attributes\":{\"active_drag\":\"auto\",\"active_inspect\":\"auto\",\"active_multi\":null,\"active_scroll\":\"auto\",\"active_tap\":\"auto\",\"tools\":[{\"id\":\"1836\",\"type\":\"PanTool\"},{\"id\":\"1837\",\"type\":\"WheelZoomTool\"},{\"id\":\"1838\",\"type\":\"BoxZoomTool\"},{\"id\":\"1839\",\"type\":\"SaveTool\"},{\"id\":\"1840\",\"type\":\"ResetTool\"},{\"id\":\"1841\",\"type\":\"HelpTool\"}]},\"id\":\"1842\",\"type\":\"Toolbar\"},{\"attributes\":{\"data_source\":{\"id\":\"1815\",\"type\":\"ColumnDataSource\"},\"glyph\":{\"id\":\"1851\",\"type\":\"Scatter\"},\"hover_glyph\":null,\"muted_glyph\":null,\"nonselection_glyph\":{\"id\":\"1852\",\"type\":\"Scatter\"},\"selection_glyph\":null,\"view\":{\"id\":\"1854\",\"type\":\"CDSView\"}},\"id\":\"1853\",\"type\":\"GlyphRenderer\"},{\"attributes\":{},\"id\":\"1919\",\"type\":\"HelpTool\"},{\"attributes\":{\"active_drag\":\"auto\",\"active_inspect\":\"auto\",\"active_multi\":null,\"active_scroll\":\"auto\",\"active_tap\":\"auto\",\"tools\":[{\"id\":\"1914\",\"type\":\"PanTool\"},{\"id\":\"1915\",\"type\":\"WheelZoomTool\"},{\"id\":\"1916\",\"type\":\"BoxZoomTool\"},{\"id\":\"1917\",\"type\":\"SaveTool\"},{\"id\":\"1918\",\"type\":\"ResetTool\"},{\"id\":\"1919\",\"type\":\"HelpTool\"}]},\"id\":\"1920\",\"type\":\"Toolbar\"},{\"attributes\":{\"source\":{\"id\":\"1815\",\"type\":\"ColumnDataSource\"}},\"id\":\"1854\",\"type\":\"CDSView\"},{\"attributes\":{\"formatter\":{\"id\":\"1992\",\"type\":\"BasicTickFormatter\"},\"ticker\":{\"id\":\"1871\",\"type\":\"BasicTicker\"}},\"id\":\"1870\",\"type\":\"LinearAxis\"},{\"attributes\":{\"callback\":null},\"id\":\"1857\",\"type\":\"DataRange1d\"},{\"attributes\":{\"fill_alpha\":{\"value\":0.1},\"fill_color\":{\"value\":\"#1f77b4\"},\"line_alpha\":{\"value\":0.1},\"line_color\":{\"value\":\"#1f77b4\"},\"size\":{\"units\":\"screen\",\"value\":10},\"x\":{\"field\":\"sepal_length\"},\"y\":{\"field\":\"petal_width\"}},\"id\":\"1930\",\"type\":\"Scatter\"},{\"attributes\":{},\"id\":\"1871\",\"type\":\"BasicTicker\"},{\"attributes\":{\"axis_label\":\"Sepal Width\",\"formatter\":{\"id\":\"1983\",\"type\":\"BasicTickFormatter\"},\"ticker\":{\"id\":\"1832\",\"type\":\"BasicTicker\"}},\"id\":\"1831\",\"type\":\"LinearAxis\"},{\"attributes\":{\"data_source\":{\"id\":\"1815\",\"type\":\"ColumnDataSource\"},\"glyph\":{\"id\":\"1929\",\"type\":\"Scatter\"},\"hover_glyph\":null,\"muted_glyph\":null,\"nonselection_glyph\":{\"id\":\"1930\",\"type\":\"Scatter\"},\"selection_glyph\":null,\"view\":{\"id\":\"1932\",\"type\":\"CDSView\"}},\"id\":\"1931\",\"type\":\"GlyphRenderer\"},{\"attributes\":{\"dimension\":1,\"ticker\":{\"id\":\"1871\",\"type\":\"BasicTicker\"}},\"id\":\"1874\",\"type\":\"Grid\"},{\"attributes\":{\"source\":{\"id\":\"1815\",\"type\":\"ColumnDataSource\"}},\"id\":\"1932\",\"type\":\"CDSView\"},{\"attributes\":{},\"id\":\"1934\",\"type\":\"BasicTickFormatter\"},{\"attributes\":{\"fill_alpha\":{\"value\":0.5},\"fill_color\":{\"field\":\"target_name\",\"transform\":{\"id\":\"1888\",\"type\":\"CategoricalColorMapper\"}},\"line_alpha\":{\"value\":0.5},\"line_color\":{\"field\":\"target_name\",\"transform\":{\"id\":\"1888\",\"type\":\"CategoricalColorMapper\"}},\"size\":{\"units\":\"screen\",\"value\":10},\"x\":{\"field\":\"petal_length\"},\"y\":{\"field\":\"sepal_width\"}},\"id\":\"1890\",\"type\":\"Scatter\"},{\"attributes\":{},\"id\":\"1936\",\"type\":\"BasicTickFormatter\"},{\"attributes\":{},\"id\":\"1962\",\"type\":\"WheelZoomTool\"},{\"attributes\":{\"bottom_units\":\"screen\",\"fill_alpha\":{\"value\":0.5},\"fill_color\":{\"value\":\"lightgrey\"},\"left_units\":\"screen\",\"level\":\"overlay\",\"line_alpha\":{\"value\":1.0},\"line_color\":{\"value\":\"black\"},\"line_dash\":[4,4],\"line_width\":{\"value\":2},\"render_mode\":\"css\",\"right_units\":\"screen\",\"top_units\":\"screen\"},\"id\":\"1938\",\"type\":\"BoxAnnotation\"},{\"attributes\":{},\"id\":\"1875\",\"type\":\"PanTool\"},{\"attributes\":{\"items\":[{\"id\":\"1940\",\"type\":\"LegendItem\"}],\"location\":\"bottom_right\"},\"id\":\"1939\",\"type\":\"Legend\"},{\"attributes\":{},\"id\":\"1876\",\"type\":\"WheelZoomTool\"},{\"attributes\":{\"label\":{\"field\":\"target_name\"},\"renderers\":[{\"id\":\"1931\",\"type\":\"GlyphRenderer\"}]},\"id\":\"1940\",\"type\":\"LegendItem\"},{\"attributes\":{\"overlay\":{\"id\":\"1994\",\"type\":\"BoxAnnotation\"}},\"id\":\"1877\",\"type\":\"BoxZoomTool\"},{\"attributes\":{\"below\":[{\"id\":\"1951\",\"type\":\"LinearAxis\"}],\"center\":[{\"id\":\"1955\",\"type\":\"Grid\"},{\"id\":\"1960\",\"type\":\"Grid\"}],\"left\":[{\"id\":\"1956\",\"type\":\"LinearAxis\"}],\"plot_height\":300,\"plot_width\":300,\"renderers\":[{\"id\":\"1978\",\"type\":\"GlyphRenderer\"}],\"title\":null,\"toolbar\":{\"id\":\"1967\",\"type\":\"Toolbar\"},\"toolbar_location\":null,\"x_range\":{\"id\":\"1943\",\"type\":\"DataRange1d\"},\"x_scale\":{\"id\":\"1947\",\"type\":\"LinearScale\"},\"y_range\":{\"id\":\"1945\",\"type\":\"DataRange1d\"},\"y_scale\":{\"id\":\"1949\",\"type\":\"LinearScale\"}},\"id\":\"1941\",\"subtype\":\"Figure\",\"type\":\"Plot\"},{\"attributes\":{},\"id\":\"1878\",\"type\":\"SaveTool\"},{\"attributes\":{},\"id\":\"1879\",\"type\":\"ResetTool\"},{\"attributes\":{\"callback\":null},\"id\":\"1943\",\"type\":\"DataRange1d\"},{\"attributes\":{},\"id\":\"1880\",\"type\":\"HelpTool\"},{\"attributes\":{\"callback\":null},\"id\":\"1945\",\"type\":\"DataRange1d\"},{\"attributes\":{\"active_drag\":\"auto\",\"active_inspect\":\"auto\",\"active_multi\":null,\"active_scroll\":\"auto\",\"active_tap\":\"auto\",\"tools\":[{\"id\":\"1875\",\"type\":\"PanTool\"},{\"id\":\"1876\",\"type\":\"WheelZoomTool\"},{\"id\":\"1877\",\"type\":\"BoxZoomTool\"},{\"id\":\"1878\",\"type\":\"SaveTool\"},{\"id\":\"1879\",\"type\":\"ResetTool\"},{\"id\":\"1880\",\"type\":\"HelpTool\"}]},\"id\":\"1881\",\"type\":\"Toolbar\"},{\"attributes\":{},\"id\":\"1947\",\"type\":\"LinearScale\"},{\"attributes\":{\"fill_alpha\":{\"value\":0.1},\"fill_color\":{\"value\":\"#1f77b4\"},\"line_alpha\":{\"value\":0.1},\"line_color\":{\"value\":\"#1f77b4\"},\"size\":{\"units\":\"screen\",\"value\":10},\"x\":{\"field\":\"petal_length\"},\"y\":{\"field\":\"sepal_width\"}},\"id\":\"1891\",\"type\":\"Scatter\"},{\"attributes\":{},\"id\":\"1949\",\"type\":\"LinearScale\"},{\"attributes\":{\"data_source\":{\"id\":\"1815\",\"type\":\"ColumnDataSource\"},\"glyph\":{\"id\":\"1890\",\"type\":\"Scatter\"},\"hover_glyph\":null,\"muted_glyph\":null,\"nonselection_glyph\":{\"id\":\"1891\",\"type\":\"Scatter\"},\"selection_glyph\":null,\"view\":{\"id\":\"1893\",\"type\":\"CDSView\"}},\"id\":\"1892\",\"type\":\"GlyphRenderer\"},{\"attributes\":{\"axis_label\":\"Petal Length\",\"formatter\":{\"id\":\"2008\",\"type\":\"BasicTickFormatter\"},\"ticker\":{\"id\":\"1952\",\"type\":\"BasicTicker\"}},\"id\":\"1951\",\"type\":\"LinearAxis\"},{\"attributes\":{\"source\":{\"id\":\"1815\",\"type\":\"ColumnDataSource\"}},\"id\":\"1893\",\"type\":\"CDSView\"},{\"attributes\":{},\"id\":\"1952\",\"type\":\"BasicTicker\"},{\"attributes\":{\"callback\":null},\"id\":\"1859\",\"type\":\"DataRange1d\"},{\"attributes\":{\"ticker\":{\"id\":\"1952\",\"type\":\"BasicTicker\"}},\"id\":\"1955\",\"type\":\"Grid\"},{\"attributes\":{\"factors\":[\"virginica\",\"setosa\",\"versicolor\"],\"palette\":[\"#1f77b4\",\"#ff7f0e\",\"#2ca02c\"]},\"id\":\"1974\",\"type\":\"CategoricalColorMapper\"},{\"attributes\":{\"children\":[[{\"id\":\"1816\",\"subtype\":\"Figure\",\"type\":\"Plot\"},0,0],[{\"id\":\"1855\",\"subtype\":\"Figure\",\"type\":\"Plot\"},0,1],[{\"id\":\"1894\",\"subtype\":\"Figure\",\"type\":\"Plot\"},1,0],[{\"id\":\"1941\",\"subtype\":\"Figure\",\"type\":\"Plot\"},1,1]]},\"id\":\"2016\",\"type\":\"GridBox\"},{\"attributes\":{\"callback\":null},\"id\":\"1896\",\"type\":\"DataRange1d\"},{\"attributes\":{\"formatter\":{\"id\":\"2010\",\"type\":\"BasicTickFormatter\"},\"ticker\":{\"id\":\"1957\",\"type\":\"BasicTicker\"}},\"id\":\"1956\",\"type\":\"LinearAxis\"},{\"attributes\":{},\"id\":\"1861\",\"type\":\"LinearScale\"},{\"attributes\":{\"callback\":null},\"id\":\"1898\",\"type\":\"DataRange1d\"},{\"attributes\":{},\"id\":\"1957\",\"type\":\"BasicTicker\"},{\"attributes\":{},\"id\":\"1900\",\"type\":\"LinearScale\"},{\"attributes\":{\"dimension\":1,\"ticker\":{\"id\":\"1957\",\"type\":\"BasicTicker\"}},\"id\":\"1960\",\"type\":\"Grid\"},{\"attributes\":{},\"id\":\"1902\",\"type\":\"LinearScale\"},{\"attributes\":{\"fill_alpha\":{\"value\":0.5},\"fill_color\":{\"field\":\"target_name\",\"transform\":{\"id\":\"1974\",\"type\":\"CategoricalColorMapper\"}},\"line_alpha\":{\"value\":0.5},\"line_color\":{\"field\":\"target_name\",\"transform\":{\"id\":\"1974\",\"type\":\"CategoricalColorMapper\"}},\"size\":{\"units\":\"screen\",\"value\":10},\"x\":{\"field\":\"petal_length\"},\"y\":{\"field\":\"petal_width\"}},\"id\":\"1976\",\"type\":\"Scatter\"},{\"attributes\":{\"tools\":[{\"id\":\"1836\",\"type\":\"PanTool\"},{\"id\":\"1837\",\"type\":\"WheelZoomTool\"},{\"id\":\"1838\",\"type\":\"BoxZoomTool\"},{\"id\":\"1839\",\"type\":\"SaveTool\"},{\"id\":\"1840\",\"type\":\"ResetTool\"},{\"id\":\"1841\",\"type\":\"HelpTool\"},{\"id\":\"1875\",\"type\":\"PanTool\"},{\"id\":\"1876\",\"type\":\"WheelZoomTool\"},{\"id\":\"1877\",\"type\":\"BoxZoomTool\"},{\"id\":\"1878\",\"type\":\"SaveTool\"},{\"id\":\"1879\",\"type\":\"ResetTool\"},{\"id\":\"1880\",\"type\":\"HelpTool\"},{\"id\":\"1914\",\"type\":\"PanTool\"},{\"id\":\"1915\",\"type\":\"WheelZoomTool\"},{\"id\":\"1916\",\"type\":\"BoxZoomTool\"},{\"id\":\"1917\",\"type\":\"SaveTool\"},{\"id\":\"1918\",\"type\":\"ResetTool\"},{\"id\":\"1919\",\"type\":\"HelpTool\"},{\"id\":\"1961\",\"type\":\"PanTool\"},{\"id\":\"1962\",\"type\":\"WheelZoomTool\"},{\"id\":\"1963\",\"type\":\"BoxZoomTool\"},{\"id\":\"1964\",\"type\":\"SaveTool\"},{\"id\":\"1965\",\"type\":\"ResetTool\"},{\"id\":\"1966\",\"type\":\"HelpTool\"}]},\"id\":\"2017\",\"type\":\"ProxyToolbar\"},{\"attributes\":{\"axis_label\":\"Sepal Length\",\"formatter\":{\"id\":\"1934\",\"type\":\"BasicTickFormatter\"},\"ticker\":{\"id\":\"1905\",\"type\":\"BasicTicker\"}},\"id\":\"1904\",\"type\":\"LinearAxis\"},{\"attributes\":{},\"id\":\"1863\",\"type\":\"LinearScale\"},{\"attributes\":{},\"id\":\"1905\",\"type\":\"BasicTicker\"},{\"attributes\":{\"fill_alpha\":{\"value\":0.1},\"fill_color\":{\"value\":\"#1f77b4\"},\"line_alpha\":{\"value\":0.1},\"line_color\":{\"value\":\"#1f77b4\"},\"size\":{\"units\":\"screen\",\"value\":10},\"x\":{\"field\":\"petal_length\"},\"y\":{\"field\":\"petal_width\"}},\"id\":\"1977\",\"type\":\"Scatter\"},{\"attributes\":{},\"id\":\"1961\",\"type\":\"PanTool\"},{\"attributes\":{\"ticker\":{\"id\":\"1905\",\"type\":\"BasicTicker\"}},\"id\":\"1908\",\"type\":\"Grid\"},{\"attributes\":{\"overlay\":{\"id\":\"2012\",\"type\":\"BoxAnnotation\"}},\"id\":\"1963\",\"type\":\"BoxZoomTool\"},{\"attributes\":{\"axis_label\":\"Petal Width\",\"formatter\":{\"id\":\"1936\",\"type\":\"BasicTickFormatter\"},\"ticker\":{\"id\":\"1910\",\"type\":\"BasicTicker\"}},\"id\":\"1909\",\"type\":\"LinearAxis\"},{\"attributes\":{},\"id\":\"1965\",\"type\":\"ResetTool\"},{\"attributes\":{},\"id\":\"1910\",\"type\":\"BasicTicker\"},{\"attributes\":{},\"id\":\"1966\",\"type\":\"HelpTool\"},{\"attributes\":{\"active_drag\":\"auto\",\"active_inspect\":\"auto\",\"active_multi\":null,\"active_scroll\":\"auto\",\"active_tap\":\"auto\",\"tools\":[{\"id\":\"1961\",\"type\":\"PanTool\"},{\"id\":\"1962\",\"type\":\"WheelZoomTool\"},{\"id\":\"1963\",\"type\":\"BoxZoomTool\"},{\"id\":\"1964\",\"type\":\"SaveTool\"},{\"id\":\"1965\",\"type\":\"ResetTool\"},{\"id\":\"1966\",\"type\":\"HelpTool\"}]},\"id\":\"1967\",\"type\":\"Toolbar\"},{\"attributes\":{\"data_source\":{\"id\":\"1815\",\"type\":\"ColumnDataSource\"},\"glyph\":{\"id\":\"1976\",\"type\":\"Scatter\"},\"hover_glyph\":null,\"muted_glyph\":null,\"nonselection_glyph\":{\"id\":\"1977\",\"type\":\"Scatter\"},\"selection_glyph\":null,\"view\":{\"id\":\"1979\",\"type\":\"CDSView\"}},\"id\":\"1978\",\"type\":\"GlyphRenderer\"},{\"attributes\":{},\"id\":\"1866\",\"type\":\"BasicTicker\"},{\"attributes\":{\"source\":{\"id\":\"1815\",\"type\":\"ColumnDataSource\"}},\"id\":\"1979\",\"type\":\"CDSView\"},{\"attributes\":{},\"id\":\"1981\",\"type\":\"BasicTickFormatter\"},{\"attributes\":{},\"id\":\"1983\",\"type\":\"BasicTickFormatter\"},{\"attributes\":{\"bottom_units\":\"screen\",\"fill_alpha\":{\"value\":0.5},\"fill_color\":{\"value\":\"lightgrey\"},\"left_units\":\"screen\",\"level\":\"overlay\",\"line_alpha\":{\"value\":1.0},\"line_color\":{\"value\":\"black\"},\"line_dash\":[4,4],\"line_width\":{\"value\":2},\"render_mode\":\"css\",\"right_units\":\"screen\",\"top_units\":\"screen\"},\"id\":\"1985\",\"type\":\"BoxAnnotation\"},{\"attributes\":{},\"id\":\"1986\",\"type\":\"UnionRenderers\"},{\"attributes\":{},\"id\":\"1987\",\"type\":\"Selection\"},{\"attributes\":{},\"id\":\"1990\",\"type\":\"BasicTickFormatter\"},{\"attributes\":{\"ticker\":{\"id\":\"1866\",\"type\":\"BasicTicker\"}},\"id\":\"1869\",\"type\":\"Grid\"},{\"attributes\":{},\"id\":\"1992\",\"type\":\"BasicTickFormatter\"},{\"attributes\":{\"bottom_units\":\"screen\",\"fill_alpha\":{\"value\":0.5},\"fill_color\":{\"value\":\"lightgrey\"},\"left_units\":\"screen\",\"level\":\"overlay\",\"line_alpha\":{\"value\":1.0},\"line_color\":{\"value\":\"black\"},\"line_dash\":[4,4],\"line_width\":{\"value\":2},\"render_mode\":\"css\",\"right_units\":\"screen\",\"top_units\":\"screen\"},\"id\":\"1994\",\"type\":\"BoxAnnotation\"},{\"attributes\":{},\"id\":\"2008\",\"type\":\"BasicTickFormatter\"},{\"attributes\":{},\"id\":\"2010\",\"type\":\"BasicTickFormatter\"},{\"attributes\":{\"bottom_units\":\"screen\",\"fill_alpha\":{\"value\":0.5},\"fill_color\":{\"value\":\"lightgrey\"},\"left_units\":\"screen\",\"level\":\"overlay\",\"line_alpha\":{\"value\":1.0},\"line_color\":{\"value\":\"black\"},\"line_dash\":[4,4],\"line_width\":{\"value\":2},\"render_mode\":\"css\",\"right_units\":\"screen\",\"top_units\":\"screen\"},\"id\":\"2012\",\"type\":\"BoxAnnotation\"},{\"attributes\":{\"toolbar\":{\"id\":\"2017\",\"type\":\"ProxyToolbar\"},\"toolbar_location\":\"above\"},\"id\":\"2018\",\"type\":\"ToolbarBox\"},{\"attributes\":{\"formatter\":{\"id\":\"1990\",\"type\":\"BasicTickFormatter\"},\"ticker\":{\"id\":\"1866\",\"type\":\"BasicTicker\"}},\"id\":\"1865\",\"type\":\"LinearAxis\"},{\"attributes\":{\"below\":[{\"id\":\"1865\",\"type\":\"LinearAxis\"}],\"center\":[{\"id\":\"1869\",\"type\":\"Grid\"},{\"id\":\"1874\",\"type\":\"Grid\"}],\"left\":[{\"id\":\"1870\",\"type\":\"LinearAxis\"}],\"plot_height\":300,\"plot_width\":300,\"renderers\":[{\"id\":\"1892\",\"type\":\"GlyphRenderer\"}],\"title\":null,\"toolbar\":{\"id\":\"1881\",\"type\":\"Toolbar\"},\"toolbar_location\":null,\"x_range\":{\"id\":\"1857\",\"type\":\"DataRange1d\"},\"x_scale\":{\"id\":\"1861\",\"type\":\"LinearScale\"},\"y_range\":{\"id\":\"1859\",\"type\":\"DataRange1d\"},\"y_scale\":{\"id\":\"1863\",\"type\":\"LinearScale\"}},\"id\":\"1855\",\"subtype\":\"Figure\",\"type\":\"Plot\"},{\"attributes\":{\"callback\":null,\"data\":{\"index\":[129,125,7,146,133,38,39,20,141,64,40,106,88,102,9,27,98,15,17,24,118,41,71,119,14,33,51,123,86,117,56,89,83,115,1,127,58,120,22,18,54,55,72,67,113,94,32,57,134,37,108,69,23,53,130,47,61,35,99,29,100,44,140,66,43,82,49,2,12,122,6,112,95,110,111,90,101,52,65,75,77,124,104,135,149,96,46,79,45,109],\"petal_length\":{\"__ndarray__\":\"MzMzMzMzF0AAAAAAAAAYQAAAAAAAAPg/AAAAAAAAFEBmZmZmZmYUQM3MzMzMzPQ/AAAAAAAA+D8zMzMzMzP7P2ZmZmZmZhRAzczMzMzMDEDNzMzMzMz0PwAAAAAAABJAZmZmZmZmEECamZmZmZkXQAAAAAAAAPg/AAAAAAAA+D8AAAAAAAAIQAAAAAAAAPg/ZmZmZmZm9j9mZmZmZmb+P5qZmZmZmRtAzczMzMzM9D8AAAAAAAAQQAAAAAAAABRAMzMzMzMz8z9mZmZmZmb2PwAAAAAAABJAmpmZmZmZE0DNzMzMzMwSQM3MzMzMzBpAzczMzMzMEkAAAAAAAAAQQGZmZmZmZhRAMzMzMzMzFUBmZmZmZmb2P5qZmZmZmRNAZmZmZmZmEkDNzMzMzMwWQAAAAAAAAPA/MzMzMzMz+z9mZmZmZmYSQAAAAAAAABJAmpmZmZmZE0BmZmZmZmYQQAAAAAAAABRAzczMzMzMEEAAAAAAAAD4P2ZmZmZmZgpAZmZmZmZmFkBmZmZmZmb2PzMzMzMzMxdAMzMzMzMzD0AzMzMzMzP7PwAAAAAAABBAZmZmZmZmGEBmZmZmZmb2P83MzMzMzBBAMzMzMzMz8z9mZmZmZmYQQJqZmZmZmfk/AAAAAAAAGEBmZmZmZmb+P2ZmZmZmZhZAAAAAAAAAEkCamZmZmZn5PzMzMzMzMw9AZmZmZmZm9j/NzMzMzMz0P2ZmZmZmZvY/zczMzMzMGkBmZmZmZmb2PwAAAAAAABZAzczMzMzMEEBmZmZmZmYUQDMzMzMzMxVAmpmZmZmZEUBmZmZmZmYUQJqZmZmZmRNAmpmZmZmZEUCamZmZmZkRQAAAAAAAABRAzczMzMzMFkAzMzMzMzMXQGZmZmZmZhhAZmZmZmZmFEDNzMzMzMwQQJqZmZmZmfk/AAAAAAAADEBmZmZmZmb2P2ZmZmZmZhhA\",\"dtype\":\"float64\",\"shape\":[90]},\"petal_width\":{\"__ndarray__\":\"mpmZmZmZ+T/NzMzMzMz8P5qZmZmZmck/ZmZmZmZm/j8AAAAAAAD4P5qZmZmZmck/mpmZmZmZyT+amZmZmZnJP2ZmZmZmZgJAzczMzMzM9D8zMzMzMzPTPzMzMzMzM/s/zczMzMzM9D/NzMzMzMwAQJqZmZmZmbk/mpmZmZmZyT+amZmZmZnxP5qZmZmZmdk/MzMzMzMz0z+amZmZmZnJP2ZmZmZmZgJAMzMzMzMz0z/NzMzMzMz0PwAAAAAAAPg/mpmZmZmZyT+amZmZmZnJPwAAAAAAAPg/zczMzMzM/D8AAAAAAAD4P5qZmZmZmQFAmpmZmZmZ+T/NzMzMzMz0P5qZmZmZmfk/ZmZmZmZmAkCamZmZmZnJP83MzMzMzPw/zczMzMzM9D9mZmZmZmYCQJqZmZmZmck/MzMzMzMz0z8AAAAAAAD4P83MzMzMzPQ/AAAAAAAA+D8AAAAAAADwPwAAAAAAAABAzczMzMzM9D+amZmZmZm5PwAAAAAAAPA/ZmZmZmZm9j+amZmZmZm5P83MzMzMzPw/mpmZmZmZ8T8AAAAAAADgP83MzMzMzPQ/ZmZmZmZm/j+amZmZmZnJPwAAAAAAAPg/mpmZmZmZyT/NzMzMzMz0P5qZmZmZmck/AAAAAAAABECamZmZmZnZPzMzMzMzMwNAAAAAAAAA+D8zMzMzMzPjPzMzMzMzM/M/mpmZmZmZyT+amZmZmZnJP5qZmZmZmbk/AAAAAAAAAEAzMzMzMzPTP83MzMzMzABAMzMzMzMz8z8AAAAAAAAAQGZmZmZmZv4/MzMzMzMz8z9mZmZmZmb+PwAAAAAAAPg/ZmZmZmZm9j9mZmZmZmb2PzMzMzMzM/s/zczMzMzMAECamZmZmZkBQGZmZmZmZgJAzczMzMzM/D/NzMzMzMz0P5qZmZmZmck/AAAAAAAA8D8zMzMzMzPTPwAAAAAAAARA\",\"dtype\":\"float64\",\"shape\":[90]},\"sepal_length\":{\"__ndarray__\":\"zczMzMzMHEDNzMzMzMwcQAAAAAAAABRAMzMzMzMzGUAzMzMzMzMZQJqZmZmZmRFAZmZmZmZmFECamZmZmZkVQJqZmZmZmRtAZmZmZmZmFkAAAAAAAAAUQJqZmZmZmRNAZmZmZmZmFkBmZmZmZmYcQJqZmZmZmRNAzczMzMzMFEBmZmZmZmYUQM3MzMzMzBZAZmZmZmZmFEAzMzMzMzMTQM3MzMzMzB5AAAAAAAAAEkBmZmZmZmYYQAAAAAAAABhAMzMzMzMzF0AAAAAAAAAWQJqZmZmZmRlAMzMzMzMzGUDNzMzMzMwaQM3MzMzMzB5AMzMzMzMzGUAAAAAAAAAWQAAAAAAAABhAmpmZmZmZGUCamZmZmZkTQGZmZmZmZhhAZmZmZmZmGkCamZmZmZkbQGZmZmZmZhJAzczMzMzMFkAAAAAAAAAaQM3MzMzMzBZAMzMzMzMzGUAzMzMzMzMXQM3MzMzMzBZAZmZmZmZmFkDNzMzMzMwUQJqZmZmZmRNAZmZmZmZmGECamZmZmZkTQM3MzMzMzBpAZmZmZmZmFkBmZmZmZmYUQAAAAAAAABZAmpmZmZmZHUBmZmZmZmYSQJqZmZmZmRdAAAAAAAAAFEDNzMzMzMwWQM3MzMzMzBJAMzMzMzMzGUBmZmZmZmYUQM3MzMzMzBpAZmZmZmZmFkAAAAAAAAAUQDMzMzMzMxdAAAAAAAAAFEDNzMzMzMwSQDMzMzMzMxNAzczMzMzMHkBmZmZmZmYSQDMzMzMzMxtAzczMzMzMFkAAAAAAAAAaQJqZmZmZmRlAAAAAAAAAFkAzMzMzMzMXQJqZmZmZmRtAzczMzMzMGkBmZmZmZmYaQM3MzMzMzBpAzczMzMzMGkAAAAAAAAAaQM3MzMzMzB5AmpmZmZmZF0DNzMzMzMwWQGZmZmZmZhRAzczMzMzMFkAzMzMzMzMTQM3MzMzMzBxA\",\"dtype\":\"float64\",\"shape\":[90]},\"sepal_width\":{\"__ndarray__\":\"AAAAAAAACECamZmZmZkJQDMzMzMzMwtAAAAAAAAABEBmZmZmZmYGQAAAAAAAAAhAMzMzMzMzC0AzMzMzMzMLQM3MzMzMzAhAMzMzMzMzB0AAAAAAAAAMQAAAAAAAAARAAAAAAAAACEAAAAAAAAAIQM3MzMzMzAhAAAAAAAAADEAAAAAAAAAEQJqZmZmZmRFAAAAAAAAADEAzMzMzMzMLQM3MzMzMzARAZmZmZmZmAkBmZmZmZmYGQJqZmZmZmQFAAAAAAAAAEEDNzMzMzMwQQJqZmZmZmQlAmpmZmZmZBUDNzMzMzMwIQGZmZmZmZg5AZmZmZmZmCkAAAAAAAAAEQJqZmZmZmQVAmpmZmZmZCUAAAAAAAAAIQAAAAAAAAAhAMzMzMzMzB0CamZmZmZkJQM3MzMzMzAxAZmZmZmZmDkBmZmZmZmYGQGZmZmZmZgZAAAAAAAAABECamZmZmZkFQAAAAAAAAARAmpmZmZmZBUBmZmZmZmYQQDMzMzMzMwNAzczMzMzMBEDNzMzMzMwMQAAAAAAAAARAAAAAAAAABEBmZmZmZmYKQGZmZmZmZgJAZmZmZmZmBkCamZmZmZkJQAAAAAAAAAhAmpmZmZmZCUBmZmZmZmYGQJqZmZmZmQlAZmZmZmZmCkBmZmZmZmYOQM3MzMzMzAhAAAAAAAAACEAAAAAAAAAMQJqZmZmZmQVAZmZmZmZmCkCamZmZmZkJQAAAAAAAAAhAZmZmZmZmBkAzMzMzMzMLQAAAAAAAAAhAAAAAAAAACECamZmZmZkJQJqZmZmZmQVAzczMzMzMBECamZmZmZkFQM3MzMzMzAhAzczMzMzMCEAAAAAAAAAIQAAAAAAAAAhAZmZmZmZmCkAAAAAAAAAIQAAAAAAAAAhAAAAAAAAACEAzMzMzMzMHQGZmZmZmZg5AzczMzMzMBEAAAAAAAAAIQM3MzMzMzAxA\",\"dtype\":\"float64\",\"shape\":[90]},\"target\":[2,2,0,2,2,0,0,0,2,1,0,2,1,2,0,0,1,0,0,0,2,0,1,2,0,0,1,2,1,2,1,1,1,2,0,2,1,2,0,0,1,1,1,1,2,1,0,1,2,0,2,1,0,1,2,0,1,0,1,0,2,0,2,1,0,1,0,0,0,2,0,2,1,2,2,1,2,1,1,1,1,2,2,2,2,1,0,1,0,2],\"target_name\":[\"virginica\",\"virginica\",\"setosa\",\"virginica\",\"virginica\",\"setosa\",\"setosa\",\"setosa\",\"virginica\",\"versicolor\",\"setosa\",\"virginica\",\"versicolor\",\"virginica\",\"setosa\",\"setosa\",\"versicolor\",\"setosa\",\"setosa\",\"setosa\",\"virginica\",\"setosa\",\"versicolor\",\"virginica\",\"setosa\",\"setosa\",\"versicolor\",\"virginica\",\"versicolor\",\"virginica\",\"versicolor\",\"versicolor\",\"versicolor\",\"virginica\",\"setosa\",\"virginica\",\"versicolor\",\"virginica\",\"setosa\",\"setosa\",\"versicolor\",\"versicolor\",\"versicolor\",\"versicolor\",\"virginica\",\"versicolor\",\"setosa\",\"versicolor\",\"virginica\",\"setosa\",\"virginica\",\"versicolor\",\"setosa\",\"versicolor\",\"virginica\",\"setosa\",\"versicolor\",\"setosa\",\"versicolor\",\"setosa\",\"virginica\",\"setosa\",\"virginica\",\"versicolor\",\"setosa\",\"versicolor\",\"setosa\",\"setosa\",\"setosa\",\"virginica\",\"setosa\",\"virginica\",\"versicolor\",\"virginica\",\"virginica\",\"versicolor\",\"virginica\",\"versicolor\",\"versicolor\",\"versicolor\",\"versicolor\",\"virginica\",\"virginica\",\"virginica\",\"virginica\",\"versicolor\",\"setosa\",\"versicolor\",\"setosa\",\"virginica\"]},\"selected\":{\"id\":\"1987\",\"type\":\"Selection\"},\"selection_policy\":{\"id\":\"1986\",\"type\":\"UnionRenderers\"}},\"id\":\"1815\",\"type\":\"ColumnDataSource\"},{\"attributes\":{\"below\":[{\"id\":\"1904\",\"type\":\"LinearAxis\"}],\"center\":[{\"id\":\"1908\",\"type\":\"Grid\"},{\"id\":\"1913\",\"type\":\"Grid\"},{\"id\":\"1939\",\"type\":\"Legend\"}],\"left\":[{\"id\":\"1909\",\"type\":\"LinearAxis\"}],\"plot_height\":300,\"plot_width\":300,\"renderers\":[{\"id\":\"1931\",\"type\":\"GlyphRenderer\"}],\"title\":null,\"toolbar\":{\"id\":\"1920\",\"type\":\"Toolbar\"},\"toolbar_location\":null,\"x_range\":{\"id\":\"1896\",\"type\":\"DataRange1d\"},\"x_scale\":{\"id\":\"1900\",\"type\":\"LinearScale\"},\"y_range\":{\"id\":\"1898\",\"type\":\"DataRange1d\"},\"y_scale\":{\"id\":\"1902\",\"type\":\"LinearScale\"}},\"id\":\"1894\",\"subtype\":\"Figure\",\"type\":\"Plot\"},{\"attributes\":{\"fill_alpha\":{\"value\":0.1},\"fill_color\":{\"value\":\"#1f77b4\"},\"line_alpha\":{\"value\":0.1},\"line_color\":{\"value\":\"#1f77b4\"},\"size\":{\"units\":\"screen\",\"value\":10},\"x\":{\"field\":\"sepal_length\"},\"y\":{\"field\":\"sepal_width\"}},\"id\":\"1852\",\"type\":\"Scatter\"},{\"attributes\":{},\"id\":\"1824\",\"type\":\"LinearScale\"},{\"attributes\":{\"factors\":[\"virginica\",\"setosa\",\"versicolor\"],\"palette\":[\"#1f77b4\",\"#ff7f0e\",\"#2ca02c\"]},\"id\":\"1849\",\"type\":\"CategoricalColorMapper\"},{\"attributes\":{\"factors\":[\"virginica\",\"setosa\",\"versicolor\"],\"palette\":[\"#1f77b4\",\"#ff7f0e\",\"#2ca02c\"]},\"id\":\"1927\",\"type\":\"CategoricalColorMapper\"},{\"attributes\":{},\"id\":\"1822\",\"type\":\"LinearScale\"},{\"attributes\":{\"callback\":null},\"id\":\"1820\",\"type\":\"DataRange1d\"},{\"attributes\":{\"callback\":null},\"id\":\"1818\",\"type\":\"DataRange1d\"},{\"attributes\":{\"factors\":[\"virginica\",\"setosa\",\"versicolor\"],\"palette\":[\"#1f77b4\",\"#ff7f0e\",\"#2ca02c\"]},\"id\":\"1888\",\"type\":\"CategoricalColorMapper\"},{\"attributes\":{\"formatter\":{\"id\":\"1981\",\"type\":\"BasicTickFormatter\"},\"ticker\":{\"id\":\"1827\",\"type\":\"BasicTicker\"}},\"id\":\"1826\",\"type\":\"LinearAxis\"},{\"attributes\":{},\"id\":\"1827\",\"type\":\"BasicTicker\"},{\"attributes\":{\"ticker\":{\"id\":\"1827\",\"type\":\"BasicTicker\"}},\"id\":\"1830\",\"type\":\"Grid\"},{\"attributes\":{},\"id\":\"1832\",\"type\":\"BasicTicker\"},{\"attributes\":{\"dimension\":1,\"ticker\":{\"id\":\"1832\",\"type\":\"BasicTicker\"}},\"id\":\"1835\",\"type\":\"Grid\"}],\"root_ids\":[\"2019\"]},\"title\":\"Bokeh Application\",\"version\":\"1.3.4\"}};\n",
       "  var render_items = [{\"docid\":\"63af6c8c-86f2-48c1-a0b8-346faaa9d986\",\"roots\":{\"2019\":\"d53a3f22-61db-4e0f-8a3f-198e7a56b58d\"}}];\n",
       "  root.Bokeh.embed.embed_items_notebook(docs_json, render_items);\n",
       "\n",
       "  }\n",
       "  if (root.Bokeh !== undefined) {\n",
       "    embed_document(root);\n",
       "  } else {\n",
       "    var attempts = 0;\n",
       "    var timer = setInterval(function(root) {\n",
       "      if (root.Bokeh !== undefined) {\n",
       "        embed_document(root);\n",
       "        clearInterval(timer);\n",
       "      }\n",
       "      attempts++;\n",
       "      if (attempts > 100) {\n",
       "        console.log(\"Bokeh: ERROR: Unable to run BokehJS code because BokehJS library is missing\");\n",
       "        clearInterval(timer);\n",
       "      }\n",
       "    }, 10, root)\n",
       "  }\n",
       "})(window);"
      ],
      "application/vnd.bokehjs_exec.v0+json": ""
     },
     "metadata": {
      "application/vnd.bokehjs_exec.v0+json": {
       "id": "2019"
      }
     },
     "output_type": "display_data"
    }
   ],
   "source": [
    "ds = ColumnDataSource(df_train)\n",
    "mark_size = 10\n",
    "p1 = figure(title=None, width=300, height=300)\n",
    "p1.yaxis.axis_label = 'Sepal Width'\n",
    "p1.scatter('sepal_length', 'sepal_width', source=ds, size=mark_size, alpha=0.5,\n",
    "          color=factor_cmap('target_name', 'Category10_3', df_train.target_name.unique()))\n",
    "p2 = figure(title=None, width=300, height=300)\n",
    "p2.scatter('petal_length', 'sepal_width', source=ds, size=mark_size, alpha=0.5,\n",
    "          color=factor_cmap('target_name', 'Category10_3', df_train.target_name.unique()))\n",
    "p3 = figure(title=None, width=300, height=300)\n",
    "p3.xaxis.axis_label = 'Sepal Length'\n",
    "p3.yaxis.axis_label = 'Petal Width'\n",
    "p3.scatter('sepal_length', 'petal_width', source=ds, legend='target_name', size=mark_size, alpha=0.5,\n",
    "          color=factor_cmap('target_name', 'Category10_3', df_train.target_name.unique()))\n",
    "p3.legend.location = 'bottom_right'\n",
    "p4 = figure(title=None, width=300, height=300)\n",
    "p4.xaxis.axis_label = 'Petal Length'\n",
    "p4.scatter('petal_length', 'petal_width', source=ds, size=mark_size, alpha=0.5,\n",
    "          color=factor_cmap('target_name', 'Category10_3', df_train.target_name.unique()))\n",
    "p = gridplot([[p1,p2], [p3,p4]])\n",
    "show(p)"
   ]
  },
  {
   "cell_type": "markdown",
   "metadata": {},
   "source": [
    "## Decision Tree"
   ]
  },
  {
   "cell_type": "code",
   "execution_count": 69,
   "metadata": {},
   "outputs": [],
   "source": [
    "from sklearn import tree\n",
    "\n",
    "clf = tree.DecisionTreeClassifier()\n",
    "clf = clf.fit(X_train, y_train)\n",
    "y_hat = clf.predict(X_test)\n"
   ]
  },
  {
   "cell_type": "code",
   "execution_count": 70,
   "metadata": {},
   "outputs": [
    {
     "data": {
      "image/png": "[encoded data removed]",
      "text/plain": [
       "<Figure size 432x288 with 1 Axes>"
      ]
     },
     "metadata": {
      "needs_background": "light"
     },
     "output_type": "display_data"
    }
   ],
   "source": [
    "ax = tree.plot_tree(clf);\n",
    "ax;"
   ]
  },
  {
   "cell_type": "code",
   "execution_count": 10,
   "metadata": {},
   "outputs": [
    {
     "data": {
      "text/plain": [
       "0.9833333333333333"
      ]
     },
     "execution_count": 10,
     "metadata": {},
     "output_type": "execute_result"
    }
   ],
   "source": [
    "from sklearn.metrics import roc_curve, roc_auc_score, accuracy_score\n",
    "accuracy_score(y_test, y_hat)"
   ]
  },
  {
   "cell_type": "markdown",
   "metadata": {},
   "source": [
    "## Random Forest"
   ]
  },
  {
   "cell_type": "code",
   "execution_count": 13,
   "metadata": {},
   "outputs": [
    {
     "name": "stderr",
     "output_type": "stream",
     "text": [
      "/Library/Frameworks/Python.framework/Versions/3.7/lib/python3.7/site-packages/sklearn/ensemble/forest.py:245: FutureWarning: The default value of n_estimators will change from 10 in version 0.20 to 100 in 0.22.\n",
      "  \"10 in version 0.20 to 100 in 0.22.\", FutureWarning)\n"
     ]
    },
    {
     "data": {
      "text/plain": [
       "0.9833333333333333"
      ]
     },
     "execution_count": 13,
     "metadata": {},
     "output_type": "execute_result"
    }
   ],
   "source": [
    "from sklearn.ensemble import RandomForestClassifier\n",
    "\n",
    "clf = RandomForestClassifier()\n",
    "clf = clf.fit(X_train, y_train)\n",
    "y_hat = clf.predict(X_test)\n",
    "accuracy_score(y_test, y_hat)"
   ]
  },
  {
   "cell_type": "markdown",
   "metadata": {},
   "source": [
    "## SVM"
   ]
  },
  {
   "cell_type": "code",
   "execution_count": 71,
   "metadata": {},
   "outputs": [
    {
     "data": {
      "text/plain": [
       "0.8"
      ]
     },
     "execution_count": 71,
     "metadata": {},
     "output_type": "execute_result"
    }
   ],
   "source": [
    "from sklearn.svm import SVC\n",
    "\n",
    "clf = SVC(kernel='linear', C=1,gamma='auto')\n",
    "\n",
    "# Somente 2 features para poder plotar boundaries.\n",
    "clf = clf.fit(X_train[['sepal_length','sepal_width']], y_train)\n",
    "y_hat = clf.predict(X_test[['sepal_length','sepal_width']].iloc[:,:2])\n",
    "accuracy_score(y_test, y_hat)"
   ]
  },
  {
   "cell_type": "code",
   "execution_count": 72,
   "metadata": {},
   "outputs": [
    {
     "data": {
      "text/plain": [
       "Text(0.5, 1.0, 'SVC with linear kernel')"
      ]
     },
     "execution_count": 72,
     "metadata": {},
     "output_type": "execute_result"
    },
    {
     "data": {
      "image/png": "[encoded data removed]",
      "text/plain": [
       "<Figure size 432x288 with 1 Axes>"
      ]
     },
     "metadata": {
      "needs_background": "light"
     },
     "output_type": "display_data"
    }
   ],
   "source": [
    "# create a mesh to plot in\n",
    "feat1, feat2 = 'sepal_length', 'sepal_width'\n",
    "x_min, x_max = X_train[feat1].min() - 1, X_train[feat1].max() + 1\n",
    "y_min, y_max = X_train[feat2].min() - 1, X_train[feat2].max() + 1\n",
    "h = (x_max / x_min)/100\n",
    "xx, yy = pd.np.meshgrid(pd.np.arange(x_min, x_max, h),\n",
    " pd.np.arange(y_min, y_max, h))\n",
    "\n",
    "plt.subplot(1, 1, 1)\n",
    "Z = clf.predict(pd.np.c_[xx.ravel(), yy.ravel()])\n",
    "Z = Z.reshape(xx.shape)\n",
    "plt.contourf(xx, yy, Z, cmap=plt.cm.Paired, alpha=0.8)\n",
    "\n",
    "plt.scatter(X_train[feat1], X_train[feat2], c=y_train, cmap=plt.cm.Paired)\n",
    "plt.xlabel(feat1)\n",
    "plt.ylabel(feat2)\n",
    "plt.xlim(xx.min(), xx.max())\n",
    "plt.title('SVC with linear kernel')"
   ]
  },
  {
   "cell_type": "markdown",
   "metadata": {},
   "source": [
    "## Naive Bayes"
   ]
  },
  {
   "cell_type": "code",
   "execution_count": 95,
   "metadata": {},
   "outputs": [
    {
     "data": {
      "text/plain": [
       "0.9833333333333333"
      ]
     },
     "execution_count": 95,
     "metadata": {},
     "output_type": "execute_result"
    }
   ],
   "source": [
    "from sklearn.naive_bayes import GaussianNB\n",
    "clf = GaussianNB()\n",
    "clf = clf.fit(X_train, y_train)\n",
    "y_hat = clf.predict(X_test)\n",
    "accuracy_score(y_hat, y_test)"
   ]
  },
  {
   "cell_type": "code",
   "execution_count": null,
   "metadata": {},
   "outputs": [],
   "source": []
  },
  {
   "cell_type": "code",
   "execution_count": 92,
   "metadata": {},
   "outputs": [
    {
     "data": {
      "text/plain": [
       "array([[0, 1, 1, 2, 1, 0, 2, 2, 1, 1, 0, 1, 2, 0, 0, 0, 1, 1, 1, 0, 1, 0,\n",
       "        2, 1, 2, 2, 0, 0, 0, 2, 0, 1, 0, 2, 1, 1, 0, 0, 1, 2, 1, 2, 2, 0,\n",
       "        1, 2, 2, 2, 2, 1, 1, 0, 2, 0, 2, 2, 2, 2, 0, 0]])"
      ]
     },
     "execution_count": 92,
     "metadata": {},
     "output_type": "execute_result"
    }
   ],
   "source": []
  },
  {
   "cell_type": "markdown",
   "metadata": {},
   "source": [
    "## KNN"
   ]
  },
  {
   "cell_type": "code",
   "execution_count": 83,
   "metadata": {},
   "outputs": [
    {
     "data": {
      "text/plain": [
       "array([[32.10625, 32.10625],\n",
       "       [32.10625, 32.10625],\n",
       "       [32.10625, 39.10625]])"
      ]
     },
     "execution_count": 83,
     "metadata": {},
     "output_type": "execute_result"
    }
   ],
   "source": [
    "pd.np.empty()"
   ]
  }
 ],
 "metadata": {
  "kernelspec": {
   "display_name": "Python 3",
   "language": "python",
   "name": "python3"
  },
  "language_info": {
   "codemirror_mode": {
    "name": "ipython",
    "version": 3
   },
   "file_extension": ".py",
   "mimetype": "text/x-python",
   "name": "python",
   "nbconvert_exporter": "python",
   "pygments_lexer": "ipython3",
   "version": "3.7.3"
  }
 },
 "nbformat": 4,
 "nbformat_minor": 2
}
