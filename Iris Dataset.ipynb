{
 "cells": [
  {
   "cell_type": "code",
   "execution_count": 1,
   "metadata": {},
   "outputs": [],
   "source": [
    "from sklearn import datasets\n",
    "import pandas as pd\n",
    "from matplotlib import cm\n",
    "%matplotlib inline"
   ]
  },
  {
   "cell_type": "code",
   "execution_count": 2,
   "metadata": {},
   "outputs": [],
   "source": [
    "iris = datasets.load_iris()\n",
    "df = pd.DataFrame(iris.data, columns=iris.feature_names)\n",
    "df['target'] = iris.target\n",
    "df ['target_name'] = df.target.apply(lambda x: iris.target_names[x])\n",
    "df.columns = [i.replace(\" (cm)\",\"\").replace(\" \",\"_\") for i in  df.columns]"
   ]
  },
  {
   "cell_type": "code",
   "execution_count": 55,
   "metadata": {},
   "outputs": [],
   "source": [
    "from sklearn.model_selection import train_test_split\n",
    "df_train, df_test = train_test_split(df, stratify=df.target_name, test_size=0.4)"
   ]
  },
  {
   "cell_type": "code",
   "execution_count": 56,
   "metadata": {},
   "outputs": [],
   "source": [
    "X_train, y_train = df_train.iloc[:,:4], df_train.target\n",
    "X_test, y_test = df_test.iloc[:,:4], df_test.target"
   ]
  },
  {
   "cell_type": "code",
   "execution_count": 57,
   "metadata": {
    "scrolled": true
   },
   "outputs": [
    {
     "data": {
      "text/plain": [
       "dict_keys(['data', 'target', 'target_names', 'DESCR', 'feature_names', 'filename'])"
      ]
     },
     "execution_count": 57,
     "metadata": {},
     "output_type": "execute_result"
    }
   ],
   "source": [
    "iris.keys()"
   ]
  },
  {
   "cell_type": "code",
   "execution_count": 58,
   "metadata": {},
   "outputs": [
    {
     "data": {
      "text/html": [
       "\n",
       "    <div class=\"bk-root\">\n",
       "        <a href=\"https://bokeh.pydata.org\" target=\"_blank\" class=\"bk-logo bk-logo-small bk-logo-notebook\"></a>\n",
       "        <span id=\"5937\">Loading BokehJS ...</span>\n",
       "    </div>"
      ]
     },
     "metadata": {},
     "output_type": "display_data"
    },
    {
     "data": {
      "application/javascript": [
       "\n",
       "(function(root) {\n",
       "  function now() {\n",
       "    return new Date();\n",
       "  }\n",
       "\n",
       "  var force = true;\n",
       "\n",
       "  if (typeof root._bokeh_onload_callbacks === \"undefined\" || force === true) {\n",
       "    root._bokeh_onload_callbacks = [];\n",
       "    root._bokeh_is_loading = undefined;\n",
       "  }\n",
       "\n",
       "  var JS_MIME_TYPE = 'application/javascript';\n",
       "  var HTML_MIME_TYPE = 'text/html';\n",
       "  var EXEC_MIME_TYPE = 'application/vnd.bokehjs_exec.v0+json';\n",
       "  var CLASS_NAME = 'output_bokeh rendered_html';\n",
       "\n",
       "  /**\n",
       "   * Render data to the DOM node\n",
       "   */\n",
       "  function render(props, node) {\n",
       "    var script = document.createElement(\"script\");\n",
       "    node.appendChild(script);\n",
       "  }\n",
       "\n",
       "  /**\n",
       "   * Handle when an output is cleared or removed\n",
       "   */\n",
       "  function handleClearOutput(event, handle) {\n",
       "    var cell = handle.cell;\n",
       "\n",
       "    var id = cell.output_area._bokeh_element_id;\n",
       "    var server_id = cell.output_area._bokeh_server_id;\n",
       "    // Clean up Bokeh references\n",
       "    if (id != null && id in Bokeh.index) {\n",
       "      Bokeh.index[id].model.document.clear();\n",
       "      delete Bokeh.index[id];\n",
       "    }\n",
       "\n",
       "    if (server_id !== undefined) {\n",
       "      // Clean up Bokeh references\n",
       "      var cmd = \"from bokeh.io.state import curstate; print(curstate().uuid_to_server['\" + server_id + \"'].get_sessions()[0].document.roots[0]._id)\";\n",
       "      cell.notebook.kernel.execute(cmd, {\n",
       "        iopub: {\n",
       "          output: function(msg) {\n",
       "            var id = msg.content.text.trim();\n",
       "            if (id in Bokeh.index) {\n",
       "              Bokeh.index[id].model.document.clear();\n",
       "              delete Bokeh.index[id];\n",
       "            }\n",
       "          }\n",
       "        }\n",
       "      });\n",
       "      // Destroy server and session\n",
       "      var cmd = \"import bokeh.io.notebook as ion; ion.destroy_server('\" + server_id + \"')\";\n",
       "      cell.notebook.kernel.execute(cmd);\n",
       "    }\n",
       "  }\n",
       "\n",
       "  /**\n",
       "   * Handle when a new output is added\n",
       "   */\n",
       "  function handleAddOutput(event, handle) {\n",
       "    var output_area = handle.output_area;\n",
       "    var output = handle.output;\n",
       "\n",
       "    // limit handleAddOutput to display_data with EXEC_MIME_TYPE content only\n",
       "    if ((output.output_type != \"display_data\") || (!output.data.hasOwnProperty(EXEC_MIME_TYPE))) {\n",
       "      return\n",
       "    }\n",
       "\n",
       "    var toinsert = output_area.element.find(\".\" + CLASS_NAME.split(' ')[0]);\n",
       "\n",
       "    if (output.metadata[EXEC_MIME_TYPE][\"id\"] !== undefined) {\n",
       "      toinsert[toinsert.length - 1].firstChild.textContent = output.data[JS_MIME_TYPE];\n",
       "      // store reference to embed id on output_area\n",
       "      output_area._bokeh_element_id = output.metadata[EXEC_MIME_TYPE][\"id\"];\n",
       "    }\n",
       "    if (output.metadata[EXEC_MIME_TYPE][\"server_id\"] !== undefined) {\n",
       "      var bk_div = document.createElement(\"div\");\n",
       "      bk_div.innerHTML = output.data[HTML_MIME_TYPE];\n",
       "      var script_attrs = bk_div.children[0].attributes;\n",
       "      for (var i = 0; i < script_attrs.length; i++) {\n",
       "        toinsert[toinsert.length - 1].firstChild.setAttribute(script_attrs[i].name, script_attrs[i].value);\n",
       "      }\n",
       "      // store reference to server id on output_area\n",
       "      output_area._bokeh_server_id = output.metadata[EXEC_MIME_TYPE][\"server_id\"];\n",
       "    }\n",
       "  }\n",
       "\n",
       "  function register_renderer(events, OutputArea) {\n",
       "\n",
       "    function append_mime(data, metadata, element) {\n",
       "      // create a DOM node to render to\n",
       "      var toinsert = this.create_output_subarea(\n",
       "        metadata,\n",
       "        CLASS_NAME,\n",
       "        EXEC_MIME_TYPE\n",
       "      );\n",
       "      this.keyboard_manager.register_events(toinsert);\n",
       "      // Render to node\n",
       "      var props = {data: data, metadata: metadata[EXEC_MIME_TYPE]};\n",
       "      render(props, toinsert[toinsert.length - 1]);\n",
       "      element.append(toinsert);\n",
       "      return toinsert\n",
       "    }\n",
       "\n",
       "    /* Handle when an output is cleared or removed */\n",
       "    events.on('clear_output.CodeCell', handleClearOutput);\n",
       "    events.on('delete.Cell', handleClearOutput);\n",
       "\n",
       "    /* Handle when a new output is added */\n",
       "    events.on('output_added.OutputArea', handleAddOutput);\n",
       "\n",
       "    /**\n",
       "     * Register the mime type and append_mime function with output_area\n",
       "     */\n",
       "    OutputArea.prototype.register_mime_type(EXEC_MIME_TYPE, append_mime, {\n",
       "      /* Is output safe? */\n",
       "      safe: true,\n",
       "      /* Index of renderer in `output_area.display_order` */\n",
       "      index: 0\n",
       "    });\n",
       "  }\n",
       "\n",
       "  // register the mime type if in Jupyter Notebook environment and previously unregistered\n",
       "  if (root.Jupyter !== undefined) {\n",
       "    var events = require('base/js/events');\n",
       "    var OutputArea = require('notebook/js/outputarea').OutputArea;\n",
       "\n",
       "    if (OutputArea.prototype.mime_types().indexOf(EXEC_MIME_TYPE) == -1) {\n",
       "      register_renderer(events, OutputArea);\n",
       "    }\n",
       "  }\n",
       "\n",
       "  \n",
       "  if (typeof (root._bokeh_timeout) === \"undefined\" || force === true) {\n",
       "    root._bokeh_timeout = Date.now() + 5000;\n",
       "    root._bokeh_failed_load = false;\n",
       "  }\n",
       "\n",
       "  var NB_LOAD_WARNING = {'data': {'text/html':\n",
       "     \"<div style='background-color: #fdd'>\\n\"+\n",
       "     \"<p>\\n\"+\n",
       "     \"BokehJS does not appear to have successfully loaded. If loading BokehJS from CDN, this \\n\"+\n",
       "     \"may be due to a slow or bad network connection. Possible fixes:\\n\"+\n",
       "     \"</p>\\n\"+\n",
       "     \"<ul>\\n\"+\n",
       "     \"<li>re-rerun `output_notebook()` to attempt to load from CDN again, or</li>\\n\"+\n",
       "     \"<li>use INLINE resources instead, as so:</li>\\n\"+\n",
       "     \"</ul>\\n\"+\n",
       "     \"<code>\\n\"+\n",
       "     \"from bokeh.resources import INLINE\\n\"+\n",
       "     \"output_notebook(resources=INLINE)\\n\"+\n",
       "     \"</code>\\n\"+\n",
       "     \"</div>\"}};\n",
       "\n",
       "  function display_loaded() {\n",
       "    var el = document.getElementById(\"5937\");\n",
       "    if (el != null) {\n",
       "      el.textContent = \"BokehJS is loading...\";\n",
       "    }\n",
       "    if (root.Bokeh !== undefined) {\n",
       "      if (el != null) {\n",
       "        el.textContent = \"BokehJS \" + root.Bokeh.version + \" successfully loaded.\";\n",
       "      }\n",
       "    } else if (Date.now() < root._bokeh_timeout) {\n",
       "      setTimeout(display_loaded, 100)\n",
       "    }\n",
       "  }\n",
       "\n",
       "\n",
       "  function run_callbacks() {\n",
       "    try {\n",
       "      root._bokeh_onload_callbacks.forEach(function(callback) {\n",
       "        if (callback != null)\n",
       "          callback();\n",
       "      });\n",
       "    } finally {\n",
       "      delete root._bokeh_onload_callbacks\n",
       "    }\n",
       "    console.debug(\"Bokeh: all callbacks have finished\");\n",
       "  }\n",
       "\n",
       "  function load_libs(css_urls, js_urls, callback) {\n",
       "    if (css_urls == null) css_urls = [];\n",
       "    if (js_urls == null) js_urls = [];\n",
       "\n",
       "    root._bokeh_onload_callbacks.push(callback);\n",
       "    if (root._bokeh_is_loading > 0) {\n",
       "      console.debug(\"Bokeh: BokehJS is being loaded, scheduling callback at\", now());\n",
       "      return null;\n",
       "    }\n",
       "    if (js_urls == null || js_urls.length === 0) {\n",
       "      run_callbacks();\n",
       "      return null;\n",
       "    }\n",
       "    console.debug(\"Bokeh: BokehJS not loaded, scheduling load and callback at\", now());\n",
       "    root._bokeh_is_loading = css_urls.length + js_urls.length;\n",
       "\n",
       "    function on_load() {\n",
       "      root._bokeh_is_loading--;\n",
       "      if (root._bokeh_is_loading === 0) {\n",
       "        console.debug(\"Bokeh: all BokehJS libraries/stylesheets loaded\");\n",
       "        run_callbacks()\n",
       "      }\n",
       "    }\n",
       "\n",
       "    function on_error() {\n",
       "      console.error(\"failed to load \" + url);\n",
       "    }\n",
       "\n",
       "    for (var i = 0; i < css_urls.length; i++) {\n",
       "      var url = css_urls[i];\n",
       "      const element = document.createElement(\"link\");\n",
       "      element.onload = on_load;\n",
       "      element.onerror = on_error;\n",
       "      element.rel = \"stylesheet\";\n",
       "      element.type = \"text/css\";\n",
       "      element.href = url;\n",
       "      console.debug(\"Bokeh: injecting link tag for BokehJS stylesheet: \", url);\n",
       "      document.body.appendChild(element);\n",
       "    }\n",
       "\n",
       "    for (var i = 0; i < js_urls.length; i++) {\n",
       "      var url = js_urls[i];\n",
       "      var element = document.createElement('script');\n",
       "      element.onload = on_load;\n",
       "      element.onerror = on_error;\n",
       "      element.async = false;\n",
       "      element.src = url;\n",
       "      console.debug(\"Bokeh: injecting script tag for BokehJS library: \", url);\n",
       "      document.head.appendChild(element);\n",
       "    }\n",
       "  };var element = document.getElementById(\"5937\");\n",
       "  if (element == null) {\n",
       "    console.error(\"Bokeh: ERROR: autoload.js configured with elementid '5937' but no matching script tag was found. \")\n",
       "    return false;\n",
       "  }\n",
       "\n",
       "  function inject_raw_css(css) {\n",
       "    const element = document.createElement(\"style\");\n",
       "    element.appendChild(document.createTextNode(css));\n",
       "    document.body.appendChild(element);\n",
       "  }\n",
       "\n",
       "  var js_urls = [\"https://cdn.pydata.org/bokeh/release/bokeh-1.2.0.min.js\", \"https://cdn.pydata.org/bokeh/release/bokeh-widgets-1.2.0.min.js\", \"https://cdn.pydata.org/bokeh/release/bokeh-tables-1.2.0.min.js\", \"https://cdn.pydata.org/bokeh/release/bokeh-gl-1.2.0.min.js\"];\n",
       "  var css_urls = [\"https://cdn.pydata.org/bokeh/release/bokeh-1.2.0.min.css\", \"https://cdn.pydata.org/bokeh/release/bokeh-widgets-1.2.0.min.css\", \"https://cdn.pydata.org/bokeh/release/bokeh-tables-1.2.0.min.css\"];\n",
       "\n",
       "  var inline_js = [\n",
       "    function(Bokeh) {\n",
       "      Bokeh.set_log_level(\"info\");\n",
       "    },\n",
       "    \n",
       "    function(Bokeh) {\n",
       "      \n",
       "    },\n",
       "    function(Bokeh) {} // ensure no trailing comma for IE\n",
       "  ];\n",
       "\n",
       "  function run_inline_js() {\n",
       "    \n",
       "    if ((root.Bokeh !== undefined) || (force === true)) {\n",
       "      for (var i = 0; i < inline_js.length; i++) {\n",
       "        inline_js[i].call(root, root.Bokeh);\n",
       "      }if (force === true) {\n",
       "        display_loaded();\n",
       "      }} else if (Date.now() < root._bokeh_timeout) {\n",
       "      setTimeout(run_inline_js, 100);\n",
       "    } else if (!root._bokeh_failed_load) {\n",
       "      console.log(\"Bokeh: BokehJS failed to load within specified timeout.\");\n",
       "      root._bokeh_failed_load = true;\n",
       "    } else if (force !== true) {\n",
       "      var cell = $(document.getElementById(\"5937\")).parents('.cell').data().cell;\n",
       "      cell.output_area.append_execute_result(NB_LOAD_WARNING)\n",
       "    }\n",
       "\n",
       "  }\n",
       "\n",
       "  if (root._bokeh_is_loading === 0) {\n",
       "    console.debug(\"Bokeh: BokehJS loaded, going straight to plotting\");\n",
       "    run_inline_js();\n",
       "  } else {\n",
       "    load_libs(css_urls, js_urls, function() {\n",
       "      console.debug(\"Bokeh: BokehJS plotting callback run at\", now());\n",
       "      run_inline_js();\n",
       "    });\n",
       "  }\n",
       "}(window));"
      ],
      "application/vnd.bokehjs_load.v0+json": "\n(function(root) {\n  function now() {\n    return new Date();\n  }\n\n  var force = true;\n\n  if (typeof root._bokeh_onload_callbacks === \"undefined\" || force === true) {\n    root._bokeh_onload_callbacks = [];\n    root._bokeh_is_loading = undefined;\n  }\n\n  \n\n  \n  if (typeof (root._bokeh_timeout) === \"undefined\" || force === true) {\n    root._bokeh_timeout = Date.now() + 5000;\n    root._bokeh_failed_load = false;\n  }\n\n  var NB_LOAD_WARNING = {'data': {'text/html':\n     \"<div style='background-color: #fdd'>\\n\"+\n     \"<p>\\n\"+\n     \"BokehJS does not appear to have successfully loaded. If loading BokehJS from CDN, this \\n\"+\n     \"may be due to a slow or bad network connection. Possible fixes:\\n\"+\n     \"</p>\\n\"+\n     \"<ul>\\n\"+\n     \"<li>re-rerun `output_notebook()` to attempt to load from CDN again, or</li>\\n\"+\n     \"<li>use INLINE resources instead, as so:</li>\\n\"+\n     \"</ul>\\n\"+\n     \"<code>\\n\"+\n     \"from bokeh.resources import INLINE\\n\"+\n     \"output_notebook(resources=INLINE)\\n\"+\n     \"</code>\\n\"+\n     \"</div>\"}};\n\n  function display_loaded() {\n    var el = document.getElementById(\"5937\");\n    if (el != null) {\n      el.textContent = \"BokehJS is loading...\";\n    }\n    if (root.Bokeh !== undefined) {\n      if (el != null) {\n        el.textContent = \"BokehJS \" + root.Bokeh.version + \" successfully loaded.\";\n      }\n    } else if (Date.now() < root._bokeh_timeout) {\n      setTimeout(display_loaded, 100)\n    }\n  }\n\n\n  function run_callbacks() {\n    try {\n      root._bokeh_onload_callbacks.forEach(function(callback) {\n        if (callback != null)\n          callback();\n      });\n    } finally {\n      delete root._bokeh_onload_callbacks\n    }\n    console.debug(\"Bokeh: all callbacks have finished\");\n  }\n\n  function load_libs(css_urls, js_urls, callback) {\n    if (css_urls == null) css_urls = [];\n    if (js_urls == null) js_urls = [];\n\n    root._bokeh_onload_callbacks.push(callback);\n    if (root._bokeh_is_loading > 0) {\n      console.debug(\"Bokeh: BokehJS is being loaded, scheduling callback at\", now());\n      return null;\n    }\n    if (js_urls == null || js_urls.length === 0) {\n      run_callbacks();\n      return null;\n    }\n    console.debug(\"Bokeh: BokehJS not loaded, scheduling load and callback at\", now());\n    root._bokeh_is_loading = css_urls.length + js_urls.length;\n\n    function on_load() {\n      root._bokeh_is_loading--;\n      if (root._bokeh_is_loading === 0) {\n        console.debug(\"Bokeh: all BokehJS libraries/stylesheets loaded\");\n        run_callbacks()\n      }\n    }\n\n    function on_error() {\n      console.error(\"failed to load \" + url);\n    }\n\n    for (var i = 0; i < css_urls.length; i++) {\n      var url = css_urls[i];\n      const element = document.createElement(\"link\");\n      element.onload = on_load;\n      element.onerror = on_error;\n      element.rel = \"stylesheet\";\n      element.type = \"text/css\";\n      element.href = url;\n      console.debug(\"Bokeh: injecting link tag for BokehJS stylesheet: \", url);\n      document.body.appendChild(element);\n    }\n\n    for (var i = 0; i < js_urls.length; i++) {\n      var url = js_urls[i];\n      var element = document.createElement('script');\n      element.onload = on_load;\n      element.onerror = on_error;\n      element.async = false;\n      element.src = url;\n      console.debug(\"Bokeh: injecting script tag for BokehJS library: \", url);\n      document.head.appendChild(element);\n    }\n  };var element = document.getElementById(\"5937\");\n  if (element == null) {\n    console.error(\"Bokeh: ERROR: autoload.js configured with elementid '5937' but no matching script tag was found. \")\n    return false;\n  }\n\n  function inject_raw_css(css) {\n    const element = document.createElement(\"style\");\n    element.appendChild(document.createTextNode(css));\n    document.body.appendChild(element);\n  }\n\n  var js_urls = [\"https://cdn.pydata.org/bokeh/release/bokeh-1.2.0.min.js\", \"https://cdn.pydata.org/bokeh/release/bokeh-widgets-1.2.0.min.js\", \"https://cdn.pydata.org/bokeh/release/bokeh-tables-1.2.0.min.js\", \"https://cdn.pydata.org/bokeh/release/bokeh-gl-1.2.0.min.js\"];\n  var css_urls = [\"https://cdn.pydata.org/bokeh/release/bokeh-1.2.0.min.css\", \"https://cdn.pydata.org/bokeh/release/bokeh-widgets-1.2.0.min.css\", \"https://cdn.pydata.org/bokeh/release/bokeh-tables-1.2.0.min.css\"];\n\n  var inline_js = [\n    function(Bokeh) {\n      Bokeh.set_log_level(\"info\");\n    },\n    \n    function(Bokeh) {\n      \n    },\n    function(Bokeh) {} // ensure no trailing comma for IE\n  ];\n\n  function run_inline_js() {\n    \n    if ((root.Bokeh !== undefined) || (force === true)) {\n      for (var i = 0; i < inline_js.length; i++) {\n        inline_js[i].call(root, root.Bokeh);\n      }if (force === true) {\n        display_loaded();\n      }} else if (Date.now() < root._bokeh_timeout) {\n      setTimeout(run_inline_js, 100);\n    } else if (!root._bokeh_failed_load) {\n      console.log(\"Bokeh: BokehJS failed to load within specified timeout.\");\n      root._bokeh_failed_load = true;\n    } else if (force !== true) {\n      var cell = $(document.getElementById(\"5937\")).parents('.cell').data().cell;\n      cell.output_area.append_execute_result(NB_LOAD_WARNING)\n    }\n\n  }\n\n  if (root._bokeh_is_loading === 0) {\n    console.debug(\"Bokeh: BokehJS loaded, going straight to plotting\");\n    run_inline_js();\n  } else {\n    load_libs(css_urls, js_urls, function() {\n      console.debug(\"Bokeh: BokehJS plotting callback run at\", now());\n      run_inline_js();\n    });\n  }\n}(window));"
     },
     "metadata": {},
     "output_type": "display_data"
    }
   ],
   "source": [
    "from bokeh.io import output_notebook\n",
    "from bokeh.plotting import figure, show, gridplot\n",
    "from bokeh.models import ColumnDataSource, Legend\n",
    "from bokeh.transform import factor_cmap, factor_mark\n",
    "output_notebook()"
   ]
  },
  {
   "cell_type": "code",
   "execution_count": 60,
   "metadata": {},
   "outputs": [
    {
     "data": {
      "text/html": [
       "\n",
       "\n",
       "\n",
       "\n",
       "\n",
       "\n",
       "  <div class=\"bk-root\" id=\"3fd88243-676a-4c6a-8526-eba39f49f8ec\" data-root-id=\"6761\"></div>\n"
      ]
     },
     "metadata": {},
     "output_type": "display_data"
    },
    {
     "data": {
      "application/javascript": [
       "(function(root) {\n",
       "  function embed_document(root) {\n",
       "    \n",
       "  var docs_json = {\"1cd0c4d4-f90f-4f0c-b258-21b2144a7814\":{\"roots\":{\"references\":[{\"attributes\":{\"children\":[{\"id\":\"6760\",\"type\":\"ToolbarBox\"},{\"id\":\"6758\",\"type\":\"GridBox\"}]},\"id\":\"6761\",\"type\":\"Column\"},{\"attributes\":{\"bottom_units\":\"screen\",\"fill_alpha\":{\"value\":0.5},\"fill_color\":{\"value\":\"lightgrey\"},\"left_units\":\"screen\",\"level\":\"overlay\",\"line_alpha\":{\"value\":1.0},\"line_color\":{\"value\":\"black\"},\"line_dash\":[4,4],\"line_width\":{\"value\":2},\"render_mode\":\"css\",\"right_units\":\"screen\",\"top_units\":\"screen\"},\"id\":\"6729\",\"type\":\"BoxAnnotation\"},{\"attributes\":{\"source\":{\"id\":\"6557\",\"type\":\"ColumnDataSource\"}},\"id\":\"6596\",\"type\":\"CDSView\"},{\"attributes\":{},\"id\":\"6583\",\"type\":\"HelpTool\"},{\"attributes\":{\"below\":[{\"id\":\"6646\",\"type\":\"LinearAxis\"}],\"center\":[{\"id\":\"6650\",\"type\":\"Grid\"},{\"id\":\"6655\",\"type\":\"Grid\"},{\"id\":\"6681\",\"type\":\"Legend\"}],\"left\":[{\"id\":\"6651\",\"type\":\"LinearAxis\"}],\"plot_height\":300,\"plot_width\":300,\"renderers\":[{\"id\":\"6673\",\"type\":\"GlyphRenderer\"}],\"title\":null,\"toolbar\":{\"id\":\"6662\",\"type\":\"Toolbar\"},\"toolbar_location\":null,\"x_range\":{\"id\":\"6638\",\"type\":\"DataRange1d\"},\"x_scale\":{\"id\":\"6642\",\"type\":\"LinearScale\"},\"y_range\":{\"id\":\"6640\",\"type\":\"DataRange1d\"},\"y_scale\":{\"id\":\"6644\",\"type\":\"LinearScale\"}},\"id\":\"6636\",\"subtype\":\"Figure\",\"type\":\"Plot\"},{\"attributes\":{\"fill_alpha\":{\"value\":0.1},\"fill_color\":{\"value\":\"#1f77b4\"},\"line_alpha\":{\"value\":0.1},\"line_color\":{\"value\":\"#1f77b4\"},\"size\":{\"units\":\"screen\",\"value\":10},\"x\":{\"field\":\"sepal_length\"},\"y\":{\"field\":\"petal_width\"}},\"id\":\"6672\",\"type\":\"Scatter\"},{\"attributes\":{\"callback\":null},\"id\":\"6599\",\"type\":\"DataRange1d\"},{\"attributes\":{\"callback\":null},\"id\":\"6601\",\"type\":\"DataRange1d\"},{\"attributes\":{\"data_source\":{\"id\":\"6557\",\"type\":\"ColumnDataSource\"},\"glyph\":{\"id\":\"6593\",\"type\":\"Scatter\"},\"hover_glyph\":null,\"muted_glyph\":null,\"nonselection_glyph\":{\"id\":\"6594\",\"type\":\"Scatter\"},\"selection_glyph\":null,\"view\":{\"id\":\"6596\",\"type\":\"CDSView\"}},\"id\":\"6595\",\"type\":\"GlyphRenderer\"},{\"attributes\":{},\"id\":\"6603\",\"type\":\"LinearScale\"},{\"attributes\":{},\"id\":\"6605\",\"type\":\"LinearScale\"},{\"attributes\":{\"callback\":null,\"data\":{\"index\":[71,77,7,105,17,29,115,75,8,85,43,65,82,96,140,5,106,86,91,23,20,107,9,104,128,92,87,52,21,64,40,94,136,44,126,139,100,27,68,102,148,41,73,50,116,62,121,95,57,54,1,46,48,61,53,76,137,47,31,33,12,45,56,30,109,149,37,122,38,144,117,70,49,103,69,108,118,138,3,142,145,78,10,124,42,146,113,60,19,67],\"petal_length\":{\"__ndarray__\":\"AAAAAAAAEEAAAAAAAAAUQAAAAAAAAPg/ZmZmZmZmGkBmZmZmZmb2P5qZmZmZmfk/MzMzMzMzFUCamZmZmZkRQGZmZmZmZvY/AAAAAAAAEkCamZmZmZn5P5qZmZmZmRFAMzMzMzMzD0DNzMzMzMwQQGZmZmZmZhZAMzMzMzMz+z8AAAAAAAASQM3MzMzMzBJAZmZmZmZmEkAzMzMzMzP7PzMzMzMzM/s/MzMzMzMzGUAAAAAAAAD4PzMzMzMzMxdAZmZmZmZmFkAAAAAAAAAQQJqZmZmZmRFAmpmZmZmZE0AAAAAAAAD4P83MzMzMzAxAzczMzMzM9D/NzMzMzMwQQGZmZmZmZhZAZmZmZmZm/j8zMzMzMzMTQJqZmZmZmRVAAAAAAAAAGEAAAAAAAAD4PwAAAAAAABJAmpmZmZmZF0CamZmZmZkVQM3MzMzMzPQ/zczMzMzMEkDNzMzMzMwSQAAAAAAAABZAAAAAAAAAEECamZmZmZkTQM3MzMzMzBBAZmZmZmZmCkBmZmZmZmYSQGZmZmZmZvY/mpmZmZmZ+T8AAAAAAAD4P83MzMzMzBBAAAAAAAAAEEAzMzMzMzMTQAAAAAAAABZAZmZmZmZm9j8AAAAAAAD4P2ZmZmZmZvY/ZmZmZmZm9j9mZmZmZmb2P83MzMzMzBJAmpmZmZmZ+T9mZmZmZmYYQGZmZmZmZhRAZmZmZmZm9j/NzMzMzMwaQM3MzMzMzPQ/zczMzMzMFkDNzMzMzMwaQDMzMzMzMxNAZmZmZmZm9j9mZmZmZmYWQDMzMzMzMw9AMzMzMzMzF0CamZmZmZkbQDMzMzMzMxNAAAAAAAAA+D9mZmZmZmYUQM3MzMzMzBRAAAAAAAAAEkAAAAAAAAD4P83MzMzMzBZAzczMzMzM9D8AAAAAAAAUQAAAAAAAABRAAAAAAAAADEAAAAAAAAD4P2ZmZmZmZhBA\",\"dtype\":\"float64\",\"shape\":[90]},\"petal_width\":{\"__ndarray__\":\"zczMzMzM9D8zMzMzMzP7P5qZmZmZmck/zczMzMzMAEAzMzMzMzPTP5qZmZmZmck/ZmZmZmZmAkBmZmZmZmb2P5qZmZmZmck/mpmZmZmZ+T8zMzMzMzPjP2ZmZmZmZvY/MzMzMzMz8z/NzMzMzMz0PzMzMzMzMwNAmpmZmZmZ2T8zMzMzMzP7PwAAAAAAAPg/ZmZmZmZm9j8AAAAAAADgP5qZmZmZmck/zczMzMzM/D+amZmZmZm5P5qZmZmZmQFAzczMzMzMAEAzMzMzMzPzP83MzMzMzPQ/AAAAAAAA+D+amZmZmZnZP83MzMzMzPQ/MzMzMzMz0z/NzMzMzMz0PzMzMzMzMwNAmpmZmZmZ2T/NzMzMzMz8P83MzMzMzABAAAAAAAAABECamZmZmZnJPwAAAAAAAPg/zczMzMzMAEBmZmZmZmYCQDMzMzMzM9M/MzMzMzMz8z9mZmZmZmb2P83MzMzMzPw/AAAAAAAA8D8AAAAAAAAAQDMzMzMzM/M/AAAAAAAA8D8AAAAAAAD4P5qZmZmZmck/mpmZmZmZyT+amZmZmZnJPwAAAAAAAPg/zczMzMzM9D9mZmZmZmb2P83MzMzMzPw/mpmZmZmZyT+amZmZmZnZP5qZmZmZmck/mpmZmZmZuT8zMzMzMzPTP5qZmZmZmfk/mpmZmZmZyT8AAAAAAAAEQM3MzMzMzPw/mpmZmZmZuT8AAAAAAAAAQJqZmZmZmck/AAAAAAAABECamZmZmZkBQM3MzMzMzPw/mpmZmZmZyT/NzMzMzMz8P5qZmZmZmfE/zczMzMzM/D9mZmZmZmYCQM3MzMzMzPw/mpmZmZmZyT9mZmZmZmb+P2ZmZmZmZgJAAAAAAAAA+D+amZmZmZnJP83MzMzMzABAmpmZmZmZyT9mZmZmZmb+PwAAAAAAAABAAAAAAAAA8D8zMzMzMzPTPwAAAAAAAPA/\",\"dtype\":\"float64\",\"shape\":[90]},\"sepal_length\":{\"__ndarray__\":\"ZmZmZmZmGEDNzMzMzMwaQAAAAAAAABRAZmZmZmZmHkBmZmZmZmYUQM3MzMzMzBJAmpmZmZmZGUBmZmZmZmYaQJqZmZmZmRFAAAAAAAAAGEAAAAAAAAAUQM3MzMzMzBpAMzMzMzMzF0DNzMzMzMwWQM3MzMzMzBpAmpmZmZmZFUCamZmZmZkTQM3MzMzMzBpAZmZmZmZmGEBmZmZmZmYUQJqZmZmZmRVAMzMzMzMzHUCamZmZmZkTQAAAAAAAABpAmpmZmZmZGUAzMzMzMzMXQDMzMzMzMxlAmpmZmZmZG0BmZmZmZmYUQGZmZmZmZhZAAAAAAAAAFEBmZmZmZmYWQDMzMzMzMxlAZmZmZmZmFEDNzMzMzMwYQJqZmZmZmRtAMzMzMzMzGUDNzMzMzMwUQM3MzMzMzBhAZmZmZmZmHEDNzMzMzMwYQAAAAAAAABJAZmZmZmZmGEAAAAAAAAAcQAAAAAAAABpAAAAAAAAAGEBmZmZmZmYWQM3MzMzMzBZAmpmZmZmZE0AAAAAAAAAaQJqZmZmZmRNAZmZmZmZmFEAzMzMzMzMVQJqZmZmZmRdAAAAAAAAAFkAzMzMzMzMbQJqZmZmZmRlAZmZmZmZmEkCamZmZmZkVQAAAAAAAABZAMzMzMzMzE0AzMzMzMzMTQDMzMzMzMxlAMzMzMzMzE0DNzMzMzMwcQJqZmZmZmRdAmpmZmZmZE0DNzMzMzMweQJqZmZmZmRFAzczMzMzMGkDNzMzMzMweQJqZmZmZmRdAAAAAAAAAFEAzMzMzMzMZQGZmZmZmZhZAzczMzMzMGkDNzMzMzMweQAAAAAAAABhAZmZmZmZmEkAzMzMzMzMXQM3MzMzMzBpAAAAAAAAAGECamZmZmZkVQM3MzMzMzBpAmpmZmZmZEUAzMzMzMzMZQM3MzMzMzBZAAAAAAAAAFEBmZmZmZmYUQDMzMzMzMxdA\",\"dtype\":\"float64\",\"shape\":[90]},\"sepal_width\":{\"__ndarray__\":\"ZmZmZmZmBkAAAAAAAAAIQDMzMzMzMwtAAAAAAAAACEAAAAAAAAAMQJqZmZmZmQlAmpmZmZmZCUAAAAAAAAAIQDMzMzMzMwdAMzMzMzMzC0AAAAAAAAAMQM3MzMzMzAhAmpmZmZmZBUAzMzMzMzMHQM3MzMzMzAhAMzMzMzMzD0AAAAAAAAAEQM3MzMzMzAhAAAAAAAAACEBmZmZmZmYKQDMzMzMzMwtAMzMzMzMzB0DNzMzMzMwIQAAAAAAAAAhAZmZmZmZmBkDNzMzMzMwEQGZmZmZmZgJAzczMzMzMCECamZmZmZkNQDMzMzMzMwdAAAAAAAAADECamZmZmZkFQDMzMzMzMwtAZmZmZmZmDkBmZmZmZmYGQM3MzMzMzAhAZmZmZmZmCkAAAAAAAAAMQJqZmZmZmQFAAAAAAAAACEAzMzMzMzMLQGZmZmZmZgJAZmZmZmZmBkCamZmZmZkJQAAAAAAAAAhAmpmZmZmZAUBmZmZmZmYGQAAAAAAAAAhAMzMzMzMzA0BmZmZmZmYGQAAAAAAAAAhAZmZmZmZmDkCamZmZmZkNQAAAAAAAAAhAZmZmZmZmAkBmZmZmZmYGQM3MzMzMzAhAmpmZmZmZCUAzMzMzMzMLQM3MzMzMzBBAAAAAAAAACEAAAAAAAAAIQGZmZmZmZgpAzczMzMzMCEDNzMzMzMwMQAAAAAAAAAhAzczMzMzMDEBmZmZmZmYGQAAAAAAAAAhAZmZmZmZmCkBmZmZmZmYOQJqZmZmZmQlAZmZmZmZmCkAzMzMzMzMHQAAAAAAAAARAAAAAAAAABEDNzMzMzMwEQAAAAAAAAAhAzczMzMzMCECamZmZmZkFQAAAAAAAAAhAMzMzMzMzB0CamZmZmZkNQGZmZmZmZgpAmpmZmZmZCUAAAAAAAAAEQAAAAAAAAARAAAAAAAAAAEBmZmZmZmYOQJqZmZmZmQVA\",\"dtype\":\"float64\",\"shape\":[90]},\"target\":{\"__ndarray__\":\"AQAAAAEAAAAAAAAAAgAAAAAAAAAAAAAAAgAAAAEAAAAAAAAAAQAAAAAAAAABAAAAAQAAAAEAAAACAAAAAAAAAAIAAAABAAAAAQAAAAAAAAAAAAAAAgAAAAAAAAACAAAAAgAAAAEAAAABAAAAAQAAAAAAAAABAAAAAAAAAAEAAAACAAAAAAAAAAIAAAACAAAAAgAAAAAAAAABAAAAAgAAAAIAAAAAAAAAAQAAAAEAAAACAAAAAQAAAAIAAAABAAAAAQAAAAEAAAAAAAAAAAAAAAAAAAABAAAAAQAAAAEAAAACAAAAAAAAAAAAAAAAAAAAAAAAAAAAAAABAAAAAAAAAAIAAAACAAAAAAAAAAIAAAAAAAAAAgAAAAIAAAABAAAAAAAAAAIAAAABAAAAAgAAAAIAAAACAAAAAAAAAAIAAAACAAAAAQAAAAAAAAACAAAAAAAAAAIAAAACAAAAAQAAAAAAAAABAAAA\",\"dtype\":\"int32\",\"shape\":[90]},\"target_name\":[\"versicolor\",\"versicolor\",\"setosa\",\"virginica\",\"setosa\",\"setosa\",\"virginica\",\"versicolor\",\"setosa\",\"versicolor\",\"setosa\",\"versicolor\",\"versicolor\",\"versicolor\",\"virginica\",\"setosa\",\"virginica\",\"versicolor\",\"versicolor\",\"setosa\",\"setosa\",\"virginica\",\"setosa\",\"virginica\",\"virginica\",\"versicolor\",\"versicolor\",\"versicolor\",\"setosa\",\"versicolor\",\"setosa\",\"versicolor\",\"virginica\",\"setosa\",\"virginica\",\"virginica\",\"virginica\",\"setosa\",\"versicolor\",\"virginica\",\"virginica\",\"setosa\",\"versicolor\",\"versicolor\",\"virginica\",\"versicolor\",\"virginica\",\"versicolor\",\"versicolor\",\"versicolor\",\"setosa\",\"setosa\",\"setosa\",\"versicolor\",\"versicolor\",\"versicolor\",\"virginica\",\"setosa\",\"setosa\",\"setosa\",\"setosa\",\"setosa\",\"versicolor\",\"setosa\",\"virginica\",\"virginica\",\"setosa\",\"virginica\",\"setosa\",\"virginica\",\"virginica\",\"versicolor\",\"setosa\",\"virginica\",\"versicolor\",\"virginica\",\"virginica\",\"virginica\",\"setosa\",\"virginica\",\"virginica\",\"versicolor\",\"setosa\",\"virginica\",\"setosa\",\"virginica\",\"virginica\",\"versicolor\",\"setosa\",\"versicolor\"]},\"selected\":{\"id\":\"6727\",\"type\":\"Selection\"},\"selection_policy\":{\"id\":\"6728\",\"type\":\"UnionRenderers\"}},\"id\":\"6557\",\"type\":\"ColumnDataSource\"},{\"attributes\":{\"axis_label\":\"Petal Length\",\"formatter\":{\"id\":\"6734\",\"type\":\"BasicTickFormatter\"},\"ticker\":{\"id\":\"6608\",\"type\":\"BasicTicker\"}},\"id\":\"6607\",\"type\":\"LinearAxis\"},{\"attributes\":{},\"id\":\"6608\",\"type\":\"BasicTicker\"},{\"attributes\":{\"active_drag\":\"auto\",\"active_inspect\":\"auto\",\"active_multi\":null,\"active_scroll\":\"auto\",\"active_tap\":\"auto\",\"tools\":[{\"id\":\"6578\",\"type\":\"PanTool\"},{\"id\":\"6579\",\"type\":\"WheelZoomTool\"},{\"id\":\"6580\",\"type\":\"BoxZoomTool\"},{\"id\":\"6581\",\"type\":\"SaveTool\"},{\"id\":\"6582\",\"type\":\"ResetTool\"},{\"id\":\"6583\",\"type\":\"HelpTool\"}]},\"id\":\"6584\",\"type\":\"Toolbar\"},{\"attributes\":{\"ticker\":{\"id\":\"6608\",\"type\":\"BasicTicker\"}},\"id\":\"6611\",\"type\":\"Grid\"},{\"attributes\":{\"axis_label\":\"Petal Width\",\"formatter\":{\"id\":\"6732\",\"type\":\"BasicTickFormatter\"},\"ticker\":{\"id\":\"6613\",\"type\":\"BasicTicker\"}},\"id\":\"6612\",\"type\":\"LinearAxis\"},{\"attributes\":{},\"id\":\"6613\",\"type\":\"BasicTicker\"},{\"attributes\":{\"dimension\":1,\"ticker\":{\"id\":\"6613\",\"type\":\"BasicTicker\"}},\"id\":\"6616\",\"type\":\"Grid\"},{\"attributes\":{\"fill_alpha\":{\"value\":0.5},\"fill_color\":{\"field\":\"target_name\",\"transform\":{\"id\":\"6630\",\"type\":\"CategoricalColorMapper\"}},\"line_alpha\":{\"value\":0.5},\"line_color\":{\"field\":\"target_name\",\"transform\":{\"id\":\"6630\",\"type\":\"CategoricalColorMapper\"}},\"size\":{\"units\":\"screen\",\"value\":10},\"x\":{\"field\":\"petal_length\"},\"y\":{\"field\":\"sepal_width\"}},\"id\":\"6632\",\"type\":\"Scatter\"},{\"attributes\":{\"factors\":[\"versicolor\",\"setosa\",\"virginica\"],\"palette\":[\"#1f77b4\",\"#ff7f0e\",\"#2ca02c\"]},\"id\":\"6669\",\"type\":\"CategoricalColorMapper\"},{\"attributes\":{\"below\":[{\"id\":\"6568\",\"type\":\"LinearAxis\"}],\"center\":[{\"id\":\"6572\",\"type\":\"Grid\"},{\"id\":\"6577\",\"type\":\"Grid\"}],\"left\":[{\"id\":\"6573\",\"type\":\"LinearAxis\"}],\"plot_height\":300,\"plot_width\":300,\"renderers\":[{\"id\":\"6595\",\"type\":\"GlyphRenderer\"}],\"title\":null,\"toolbar\":{\"id\":\"6584\",\"type\":\"Toolbar\"},\"toolbar_location\":null,\"x_range\":{\"id\":\"6560\",\"type\":\"DataRange1d\"},\"x_scale\":{\"id\":\"6564\",\"type\":\"LinearScale\"},\"y_range\":{\"id\":\"6562\",\"type\":\"DataRange1d\"},\"y_scale\":{\"id\":\"6566\",\"type\":\"LinearScale\"}},\"id\":\"6558\",\"subtype\":\"Figure\",\"type\":\"Plot\"},{\"attributes\":{},\"id\":\"6617\",\"type\":\"PanTool\"},{\"attributes\":{},\"id\":\"6618\",\"type\":\"WheelZoomTool\"},{\"attributes\":{\"overlay\":{\"id\":\"6738\",\"type\":\"BoxAnnotation\"}},\"id\":\"6619\",\"type\":\"BoxZoomTool\"},{\"attributes\":{},\"id\":\"6620\",\"type\":\"SaveTool\"},{\"attributes\":{\"factors\":[\"versicolor\",\"setosa\",\"virginica\"],\"palette\":[\"#1f77b4\",\"#ff7f0e\",\"#2ca02c\"]},\"id\":\"6591\",\"type\":\"CategoricalColorMapper\"},{\"attributes\":{},\"id\":\"6621\",\"type\":\"ResetTool\"},{\"attributes\":{},\"id\":\"6622\",\"type\":\"HelpTool\"},{\"attributes\":{\"active_drag\":\"auto\",\"active_inspect\":\"auto\",\"active_multi\":null,\"active_scroll\":\"auto\",\"active_tap\":\"auto\",\"tools\":[{\"id\":\"6617\",\"type\":\"PanTool\"},{\"id\":\"6618\",\"type\":\"WheelZoomTool\"},{\"id\":\"6619\",\"type\":\"BoxZoomTool\"},{\"id\":\"6620\",\"type\":\"SaveTool\"},{\"id\":\"6621\",\"type\":\"ResetTool\"},{\"id\":\"6622\",\"type\":\"HelpTool\"}]},\"id\":\"6623\",\"type\":\"Toolbar\"},{\"attributes\":{\"factors\":[\"versicolor\",\"setosa\",\"virginica\"],\"palette\":[\"#1f77b4\",\"#ff7f0e\",\"#2ca02c\"]},\"id\":\"6630\",\"type\":\"CategoricalColorMapper\"},{\"attributes\":{\"fill_alpha\":{\"value\":0.1},\"fill_color\":{\"value\":\"#1f77b4\"},\"line_alpha\":{\"value\":0.1},\"line_color\":{\"value\":\"#1f77b4\"},\"size\":{\"units\":\"screen\",\"value\":10},\"x\":{\"field\":\"petal_length\"},\"y\":{\"field\":\"sepal_width\"}},\"id\":\"6633\",\"type\":\"Scatter\"},{\"attributes\":{\"data_source\":{\"id\":\"6557\",\"type\":\"ColumnDataSource\"},\"glyph\":{\"id\":\"6632\",\"type\":\"Scatter\"},\"hover_glyph\":null,\"muted_glyph\":null,\"nonselection_glyph\":{\"id\":\"6633\",\"type\":\"Scatter\"},\"selection_glyph\":null,\"view\":{\"id\":\"6635\",\"type\":\"CDSView\"}},\"id\":\"6634\",\"type\":\"GlyphRenderer\"},{\"attributes\":{\"source\":{\"id\":\"6557\",\"type\":\"ColumnDataSource\"}},\"id\":\"6635\",\"type\":\"CDSView\"},{\"attributes\":{\"children\":[[{\"id\":\"6558\",\"subtype\":\"Figure\",\"type\":\"Plot\"},0,0],[{\"id\":\"6597\",\"subtype\":\"Figure\",\"type\":\"Plot\"},0,1],[{\"id\":\"6636\",\"subtype\":\"Figure\",\"type\":\"Plot\"},1,0],[{\"id\":\"6683\",\"subtype\":\"Figure\",\"type\":\"Plot\"},1,1]]},\"id\":\"6758\",\"type\":\"GridBox\"},{\"attributes\":{\"factors\":[\"versicolor\",\"setosa\",\"virginica\"],\"palette\":[\"#1f77b4\",\"#ff7f0e\",\"#2ca02c\"]},\"id\":\"6716\",\"type\":\"CategoricalColorMapper\"},{\"attributes\":{\"callback\":null},\"id\":\"6638\",\"type\":\"DataRange1d\"},{\"attributes\":{\"callback\":null},\"id\":\"6640\",\"type\":\"DataRange1d\"},{\"attributes\":{},\"id\":\"6642\",\"type\":\"LinearScale\"},{\"attributes\":{},\"id\":\"6644\",\"type\":\"LinearScale\"},{\"attributes\":{\"below\":[{\"id\":\"6607\",\"type\":\"LinearAxis\"}],\"center\":[{\"id\":\"6611\",\"type\":\"Grid\"},{\"id\":\"6616\",\"type\":\"Grid\"}],\"left\":[{\"id\":\"6612\",\"type\":\"LinearAxis\"}],\"plot_height\":300,\"plot_width\":300,\"renderers\":[{\"id\":\"6634\",\"type\":\"GlyphRenderer\"}],\"title\":null,\"toolbar\":{\"id\":\"6623\",\"type\":\"Toolbar\"},\"toolbar_location\":null,\"x_range\":{\"id\":\"6599\",\"type\":\"DataRange1d\"},\"x_scale\":{\"id\":\"6603\",\"type\":\"LinearScale\"},\"y_range\":{\"id\":\"6601\",\"type\":\"DataRange1d\"},\"y_scale\":{\"id\":\"6605\",\"type\":\"LinearScale\"}},\"id\":\"6597\",\"subtype\":\"Figure\",\"type\":\"Plot\"},{\"attributes\":{\"axis_label\":\"Sepal Length\",\"formatter\":{\"id\":\"6678\",\"type\":\"BasicTickFormatter\"},\"ticker\":{\"id\":\"6647\",\"type\":\"BasicTicker\"}},\"id\":\"6646\",\"type\":\"LinearAxis\"},{\"attributes\":{},\"id\":\"6647\",\"type\":\"BasicTicker\"},{\"attributes\":{\"ticker\":{\"id\":\"6647\",\"type\":\"BasicTicker\"}},\"id\":\"6650\",\"type\":\"Grid\"},{\"attributes\":{\"formatter\":{\"id\":\"6676\",\"type\":\"BasicTickFormatter\"},\"ticker\":{\"id\":\"6652\",\"type\":\"BasicTicker\"}},\"id\":\"6651\",\"type\":\"LinearAxis\"},{\"attributes\":{},\"id\":\"6652\",\"type\":\"BasicTicker\"},{\"attributes\":{\"dimension\":1,\"ticker\":{\"id\":\"6652\",\"type\":\"BasicTicker\"}},\"id\":\"6655\",\"type\":\"Grid\"},{\"attributes\":{\"data_source\":{\"id\":\"6557\",\"type\":\"ColumnDataSource\"},\"glyph\":{\"id\":\"6718\",\"type\":\"Scatter\"},\"hover_glyph\":null,\"muted_glyph\":null,\"nonselection_glyph\":{\"id\":\"6719\",\"type\":\"Scatter\"},\"selection_glyph\":null,\"view\":{\"id\":\"6721\",\"type\":\"CDSView\"}},\"id\":\"6720\",\"type\":\"GlyphRenderer\"},{\"attributes\":{\"source\":{\"id\":\"6557\",\"type\":\"ColumnDataSource\"}},\"id\":\"6721\",\"type\":\"CDSView\"},{\"attributes\":{\"fill_alpha\":{\"value\":0.5},\"fill_color\":{\"field\":\"target_name\",\"transform\":{\"id\":\"6669\",\"type\":\"CategoricalColorMapper\"}},\"line_alpha\":{\"value\":0.5},\"line_color\":{\"field\":\"target_name\",\"transform\":{\"id\":\"6669\",\"type\":\"CategoricalColorMapper\"}},\"size\":{\"units\":\"screen\",\"value\":10},\"x\":{\"field\":\"sepal_length\"},\"y\":{\"field\":\"petal_width\"}},\"id\":\"6671\",\"type\":\"Scatter\"},{\"attributes\":{},\"id\":\"6678\",\"type\":\"BasicTickFormatter\"},{\"attributes\":{},\"id\":\"6723\",\"type\":\"BasicTickFormatter\"},{\"attributes\":{},\"id\":\"6656\",\"type\":\"PanTool\"},{\"attributes\":{},\"id\":\"6725\",\"type\":\"BasicTickFormatter\"},{\"attributes\":{},\"id\":\"6657\",\"type\":\"WheelZoomTool\"},{\"attributes\":{\"overlay\":{\"id\":\"6680\",\"type\":\"BoxAnnotation\"}},\"id\":\"6658\",\"type\":\"BoxZoomTool\"},{\"attributes\":{},\"id\":\"6659\",\"type\":\"SaveTool\"},{\"attributes\":{},\"id\":\"6727\",\"type\":\"Selection\"},{\"attributes\":{},\"id\":\"6660\",\"type\":\"ResetTool\"},{\"attributes\":{},\"id\":\"6728\",\"type\":\"UnionRenderers\"},{\"attributes\":{},\"id\":\"6661\",\"type\":\"HelpTool\"},{\"attributes\":{},\"id\":\"6732\",\"type\":\"BasicTickFormatter\"},{\"attributes\":{\"active_drag\":\"auto\",\"active_inspect\":\"auto\",\"active_multi\":null,\"active_scroll\":\"auto\",\"active_tap\":\"auto\",\"tools\":[{\"id\":\"6656\",\"type\":\"PanTool\"},{\"id\":\"6657\",\"type\":\"WheelZoomTool\"},{\"id\":\"6658\",\"type\":\"BoxZoomTool\"},{\"id\":\"6659\",\"type\":\"SaveTool\"},{\"id\":\"6660\",\"type\":\"ResetTool\"},{\"id\":\"6661\",\"type\":\"HelpTool\"}]},\"id\":\"6662\",\"type\":\"Toolbar\"},{\"attributes\":{},\"id\":\"6734\",\"type\":\"BasicTickFormatter\"},{\"attributes\":{},\"id\":\"6676\",\"type\":\"BasicTickFormatter\"},{\"attributes\":{},\"id\":\"6579\",\"type\":\"WheelZoomTool\"},{\"attributes\":{},\"id\":\"6750\",\"type\":\"BasicTickFormatter\"},{\"attributes\":{\"bottom_units\":\"screen\",\"fill_alpha\":{\"value\":0.5},\"fill_color\":{\"value\":\"lightgrey\"},\"left_units\":\"screen\",\"level\":\"overlay\",\"line_alpha\":{\"value\":1.0},\"line_color\":{\"value\":\"black\"},\"line_dash\":[4,4],\"line_width\":{\"value\":2},\"render_mode\":\"css\",\"right_units\":\"screen\",\"top_units\":\"screen\"},\"id\":\"6680\",\"type\":\"BoxAnnotation\"},{\"attributes\":{\"items\":[{\"id\":\"6682\",\"type\":\"LegendItem\"}],\"location\":\"bottom_right\"},\"id\":\"6681\",\"type\":\"Legend\"},{\"attributes\":{},\"id\":\"6752\",\"type\":\"BasicTickFormatter\"},{\"attributes\":{\"bottom_units\":\"screen\",\"fill_alpha\":{\"value\":0.5},\"fill_color\":{\"value\":\"lightgrey\"},\"left_units\":\"screen\",\"level\":\"overlay\",\"line_alpha\":{\"value\":1.0},\"line_color\":{\"value\":\"black\"},\"line_dash\":[4,4],\"line_width\":{\"value\":2},\"render_mode\":\"css\",\"right_units\":\"screen\",\"top_units\":\"screen\"},\"id\":\"6756\",\"type\":\"BoxAnnotation\"},{\"attributes\":{\"label\":{\"field\":\"target_name\"},\"renderers\":[{\"id\":\"6673\",\"type\":\"GlyphRenderer\"}]},\"id\":\"6682\",\"type\":\"LegendItem\"},{\"attributes\":{\"overlay\":{\"id\":\"6729\",\"type\":\"BoxAnnotation\"}},\"id\":\"6580\",\"type\":\"BoxZoomTool\"},{\"attributes\":{\"tools\":[{\"id\":\"6578\",\"type\":\"PanTool\"},{\"id\":\"6579\",\"type\":\"WheelZoomTool\"},{\"id\":\"6580\",\"type\":\"BoxZoomTool\"},{\"id\":\"6581\",\"type\":\"SaveTool\"},{\"id\":\"6582\",\"type\":\"ResetTool\"},{\"id\":\"6583\",\"type\":\"HelpTool\"},{\"id\":\"6617\",\"type\":\"PanTool\"},{\"id\":\"6618\",\"type\":\"WheelZoomTool\"},{\"id\":\"6619\",\"type\":\"BoxZoomTool\"},{\"id\":\"6620\",\"type\":\"SaveTool\"},{\"id\":\"6621\",\"type\":\"ResetTool\"},{\"id\":\"6622\",\"type\":\"HelpTool\"},{\"id\":\"6656\",\"type\":\"PanTool\"},{\"id\":\"6657\",\"type\":\"WheelZoomTool\"},{\"id\":\"6658\",\"type\":\"BoxZoomTool\"},{\"id\":\"6659\",\"type\":\"SaveTool\"},{\"id\":\"6660\",\"type\":\"ResetTool\"},{\"id\":\"6661\",\"type\":\"HelpTool\"},{\"id\":\"6703\",\"type\":\"PanTool\"},{\"id\":\"6704\",\"type\":\"WheelZoomTool\"},{\"id\":\"6705\",\"type\":\"BoxZoomTool\"},{\"id\":\"6706\",\"type\":\"SaveTool\"},{\"id\":\"6707\",\"type\":\"ResetTool\"},{\"id\":\"6708\",\"type\":\"HelpTool\"}]},\"id\":\"6759\",\"type\":\"ProxyToolbar\"},{\"attributes\":{\"below\":[{\"id\":\"6693\",\"type\":\"LinearAxis\"}],\"center\":[{\"id\":\"6697\",\"type\":\"Grid\"},{\"id\":\"6702\",\"type\":\"Grid\"}],\"left\":[{\"id\":\"6698\",\"type\":\"LinearAxis\"}],\"plot_height\":300,\"plot_width\":300,\"renderers\":[{\"id\":\"6720\",\"type\":\"GlyphRenderer\"}],\"title\":null,\"toolbar\":{\"id\":\"6709\",\"type\":\"Toolbar\"},\"toolbar_location\":null,\"x_range\":{\"id\":\"6685\",\"type\":\"DataRange1d\"},\"x_scale\":{\"id\":\"6689\",\"type\":\"LinearScale\"},\"y_range\":{\"id\":\"6687\",\"type\":\"DataRange1d\"},\"y_scale\":{\"id\":\"6691\",\"type\":\"LinearScale\"}},\"id\":\"6683\",\"subtype\":\"Figure\",\"type\":\"Plot\"},{\"attributes\":{\"bottom_units\":\"screen\",\"fill_alpha\":{\"value\":0.5},\"fill_color\":{\"value\":\"lightgrey\"},\"left_units\":\"screen\",\"level\":\"overlay\",\"line_alpha\":{\"value\":1.0},\"line_color\":{\"value\":\"black\"},\"line_dash\":[4,4],\"line_width\":{\"value\":2},\"render_mode\":\"css\",\"right_units\":\"screen\",\"top_units\":\"screen\"},\"id\":\"6738\",\"type\":\"BoxAnnotation\"},{\"attributes\":{\"toolbar\":{\"id\":\"6759\",\"type\":\"ProxyToolbar\"},\"toolbar_location\":\"above\"},\"id\":\"6760\",\"type\":\"ToolbarBox\"},{\"attributes\":{\"callback\":null},\"id\":\"6685\",\"type\":\"DataRange1d\"},{\"attributes\":{\"callback\":null},\"id\":\"6687\",\"type\":\"DataRange1d\"},{\"attributes\":{},\"id\":\"6689\",\"type\":\"LinearScale\"},{\"attributes\":{},\"id\":\"6691\",\"type\":\"LinearScale\"},{\"attributes\":{},\"id\":\"6564\",\"type\":\"LinearScale\"},{\"attributes\":{\"fill_alpha\":{\"value\":0.1},\"fill_color\":{\"value\":\"#1f77b4\"},\"line_alpha\":{\"value\":0.1},\"line_color\":{\"value\":\"#1f77b4\"},\"size\":{\"units\":\"screen\",\"value\":10},\"x\":{\"field\":\"petal_length\"},\"y\":{\"field\":\"petal_width\"}},\"id\":\"6719\",\"type\":\"Scatter\"},{\"attributes\":{\"axis_label\":\"Petal Length\",\"formatter\":{\"id\":\"6752\",\"type\":\"BasicTickFormatter\"},\"ticker\":{\"id\":\"6694\",\"type\":\"BasicTicker\"}},\"id\":\"6693\",\"type\":\"LinearAxis\"},{\"attributes\":{\"fill_alpha\":{\"value\":0.5},\"fill_color\":{\"field\":\"target_name\",\"transform\":{\"id\":\"6591\",\"type\":\"CategoricalColorMapper\"}},\"line_alpha\":{\"value\":0.5},\"line_color\":{\"field\":\"target_name\",\"transform\":{\"id\":\"6591\",\"type\":\"CategoricalColorMapper\"}},\"size\":{\"units\":\"screen\",\"value\":10},\"x\":{\"field\":\"sepal_length\"},\"y\":{\"field\":\"sepal_width\"}},\"id\":\"6593\",\"type\":\"Scatter\"},{\"attributes\":{\"source\":{\"id\":\"6557\",\"type\":\"ColumnDataSource\"}},\"id\":\"6674\",\"type\":\"CDSView\"},{\"attributes\":{},\"id\":\"6694\",\"type\":\"BasicTicker\"},{\"attributes\":{\"callback\":null},\"id\":\"6562\",\"type\":\"DataRange1d\"},{\"attributes\":{\"ticker\":{\"id\":\"6694\",\"type\":\"BasicTicker\"}},\"id\":\"6697\",\"type\":\"Grid\"},{\"attributes\":{\"formatter\":{\"id\":\"6750\",\"type\":\"BasicTickFormatter\"},\"ticker\":{\"id\":\"6699\",\"type\":\"BasicTicker\"}},\"id\":\"6698\",\"type\":\"LinearAxis\"},{\"attributes\":{},\"id\":\"6699\",\"type\":\"BasicTicker\"},{\"attributes\":{},\"id\":\"6581\",\"type\":\"SaveTool\"},{\"attributes\":{\"dimension\":1,\"ticker\":{\"id\":\"6699\",\"type\":\"BasicTicker\"}},\"id\":\"6702\",\"type\":\"Grid\"},{\"attributes\":{},\"id\":\"6574\",\"type\":\"BasicTicker\"},{\"attributes\":{},\"id\":\"6566\",\"type\":\"LinearScale\"},{\"attributes\":{\"fill_alpha\":{\"value\":0.5},\"fill_color\":{\"field\":\"target_name\",\"transform\":{\"id\":\"6716\",\"type\":\"CategoricalColorMapper\"}},\"line_alpha\":{\"value\":0.5},\"line_color\":{\"field\":\"target_name\",\"transform\":{\"id\":\"6716\",\"type\":\"CategoricalColorMapper\"}},\"size\":{\"units\":\"screen\",\"value\":10},\"x\":{\"field\":\"petal_length\"},\"y\":{\"field\":\"petal_width\"}},\"id\":\"6718\",\"type\":\"Scatter\"},{\"attributes\":{\"dimension\":1,\"ticker\":{\"id\":\"6574\",\"type\":\"BasicTicker\"}},\"id\":\"6577\",\"type\":\"Grid\"},{\"attributes\":{\"axis_label\":\"Petal Width\",\"formatter\":{\"id\":\"6723\",\"type\":\"BasicTickFormatter\"},\"ticker\":{\"id\":\"6574\",\"type\":\"BasicTicker\"}},\"id\":\"6573\",\"type\":\"LinearAxis\"},{\"attributes\":{},\"id\":\"6703\",\"type\":\"PanTool\"},{\"attributes\":{\"ticker\":{\"id\":\"6569\",\"type\":\"BasicTicker\"}},\"id\":\"6572\",\"type\":\"Grid\"},{\"attributes\":{},\"id\":\"6704\",\"type\":\"WheelZoomTool\"},{\"attributes\":{},\"id\":\"6569\",\"type\":\"BasicTicker\"},{\"attributes\":{\"overlay\":{\"id\":\"6756\",\"type\":\"BoxAnnotation\"}},\"id\":\"6705\",\"type\":\"BoxZoomTool\"},{\"attributes\":{\"axis_label\":\"Sepal Length\",\"formatter\":{\"id\":\"6725\",\"type\":\"BasicTickFormatter\"},\"ticker\":{\"id\":\"6569\",\"type\":\"BasicTicker\"}},\"id\":\"6568\",\"type\":\"LinearAxis\"},{\"attributes\":{},\"id\":\"6706\",\"type\":\"SaveTool\"},{\"attributes\":{\"callback\":null},\"id\":\"6560\",\"type\":\"DataRange1d\"},{\"attributes\":{},\"id\":\"6707\",\"type\":\"ResetTool\"},{\"attributes\":{\"data_source\":{\"id\":\"6557\",\"type\":\"ColumnDataSource\"},\"glyph\":{\"id\":\"6671\",\"type\":\"Scatter\"},\"hover_glyph\":null,\"muted_glyph\":null,\"nonselection_glyph\":{\"id\":\"6672\",\"type\":\"Scatter\"},\"selection_glyph\":null,\"view\":{\"id\":\"6674\",\"type\":\"CDSView\"}},\"id\":\"6673\",\"type\":\"GlyphRenderer\"},{\"attributes\":{},\"id\":\"6708\",\"type\":\"HelpTool\"},{\"attributes\":{},\"id\":\"6578\",\"type\":\"PanTool\"},{\"attributes\":{\"active_drag\":\"auto\",\"active_inspect\":\"auto\",\"active_multi\":null,\"active_scroll\":\"auto\",\"active_tap\":\"auto\",\"tools\":[{\"id\":\"6703\",\"type\":\"PanTool\"},{\"id\":\"6704\",\"type\":\"WheelZoomTool\"},{\"id\":\"6705\",\"type\":\"BoxZoomTool\"},{\"id\":\"6706\",\"type\":\"SaveTool\"},{\"id\":\"6707\",\"type\":\"ResetTool\"},{\"id\":\"6708\",\"type\":\"HelpTool\"}]},\"id\":\"6709\",\"type\":\"Toolbar\"},{\"attributes\":{\"fill_alpha\":{\"value\":0.1},\"fill_color\":{\"value\":\"#1f77b4\"},\"line_alpha\":{\"value\":0.1},\"line_color\":{\"value\":\"#1f77b4\"},\"size\":{\"units\":\"screen\",\"value\":10},\"x\":{\"field\":\"sepal_length\"},\"y\":{\"field\":\"sepal_width\"}},\"id\":\"6594\",\"type\":\"Scatter\"},{\"attributes\":{},\"id\":\"6582\",\"type\":\"ResetTool\"}],\"root_ids\":[\"6761\"]},\"title\":\"Bokeh Application\",\"version\":\"1.2.0\"}};\n",
       "  var render_items = [{\"docid\":\"1cd0c4d4-f90f-4f0c-b258-21b2144a7814\",\"roots\":{\"6761\":\"3fd88243-676a-4c6a-8526-eba39f49f8ec\"}}];\n",
       "  root.Bokeh.embed.embed_items_notebook(docs_json, render_items);\n",
       "\n",
       "  }\n",
       "  if (root.Bokeh !== undefined) {\n",
       "    embed_document(root);\n",
       "  } else {\n",
       "    var attempts = 0;\n",
       "    var timer = setInterval(function(root) {\n",
       "      if (root.Bokeh !== undefined) {\n",
       "        embed_document(root);\n",
       "        clearInterval(timer);\n",
       "      }\n",
       "      attempts++;\n",
       "      if (attempts > 100) {\n",
       "        console.log(\"Bokeh: ERROR: Unable to run BokehJS code because BokehJS library is missing\");\n",
       "        clearInterval(timer);\n",
       "      }\n",
       "    }, 10, root)\n",
       "  }\n",
       "})(window);"
      ],
      "application/vnd.bokehjs_exec.v0+json": ""
     },
     "metadata": {
      "application/vnd.bokehjs_exec.v0+json": {
       "id": "6761"
      }
     },
     "output_type": "display_data"
    }
   ],
   "source": [
    "ds = ColumnDataSource(df_train)\n",
    "mark_size = 10\n",
    "p1 = figure(title=None, width=300, height=300)\n",
    "p1.xaxis.axis_label, p1.yaxis.axis_label = 'Sepal Length', 'Sepal Width'\n",
    "p1.scatter('sepal_length', 'sepal_width', source=ds, size=mark_size, alpha=0.5,\n",
    "          color=factor_cmap('target_name', 'Category10_3', df_train.target_name.unique()))\n",
    "p2 = figure(title=None, width=300, height=300)\n",
    "p2.xaxis.axis_label, p2.yaxis.axis_label = 'Petal Length', 'Sepal Width'\n",
    "p2.scatter('petal_length', 'sepal_width', source=ds, size=mark_size, alpha=0.5,\n",
    "          color=factor_cmap('target_name', 'Category10_3', df_train.target_name.unique()))\n",
    "p3 = figure(title=None, width=300, height=300)\n",
    "p3.xaxis.axis_label, p1.yaxis.axis_label = 'Sepal Length', 'Petal Width'\n",
    "p3.scatter('sepal_length', 'petal_width', source=ds, legend='target_name', size=mark_size, alpha=0.5,\n",
    "          color=factor_cmap('target_name', 'Category10_3', df_train.target_name.unique()))\n",
    "p3.legend.location = 'bottom_right'\n",
    "p4 = figure(title=None, width=300, height=300)\n",
    "p4.xaxis.axis_label, p2.yaxis.axis_label = 'Petal Length', 'Petal Width'\n",
    "p4.scatter('petal_length', 'petal_width', source=ds, size=mark_size, alpha=0.5,\n",
    "          color=factor_cmap('target_name', 'Category10_3', df_train.target_name.unique()))\n",
    "p = gridplot([[p1,p2], [p3,p4]])\n",
    "show(p)"
   ]
  },
  {
   "cell_type": "markdown",
   "metadata": {},
   "source": [
    "## Decision Tree"
   ]
  },
  {
   "cell_type": "code",
   "execution_count": 61,
   "metadata": {},
   "outputs": [],
   "source": [
    "from sklearn import tree\n",
    "\n",
    "clf = tree.DecisionTreeClassifier()\n",
    "clf = clf.fit(X_train, y_train)\n",
    "y_hat = clf.predict(X_test)\n"
   ]
  },
  {
   "cell_type": "code",
   "execution_count": 62,
   "metadata": {},
   "outputs": [
    {
     "data": {
      "text/plain": [
       "[Text(83.7, 199.32, 'X[3] <= 0.8\\nentropy = 0.667\\nsamples = 90\\nvalue = [30, 30, 30]'),\n",
       " Text(41.85, 163.07999999999998, 'entropy = 0.0\\nsamples = 30\\nvalue = [30, 0, 0]'),\n",
       " Text(125.55000000000001, 163.07999999999998, 'X[3] <= 1.65\\nentropy = 0.5\\nsamples = 60\\nvalue = [0, 30, 30]'),\n",
       " Text(83.7, 126.83999999999999, 'entropy = 0.0\\nsamples = 28\\nvalue = [0, 28, 0]'),\n",
       " Text(167.4, 126.83999999999999, 'X[3] <= 1.75\\nentropy = 0.117\\nsamples = 32\\nvalue = [0, 2, 30]'),\n",
       " Text(83.7, 90.6, 'X[0] <= 5.8\\nentropy = 0.5\\nsamples = 2\\nvalue = [0, 1, 1]'),\n",
       " Text(41.85, 54.359999999999985, 'entropy = 0.0\\nsamples = 1\\nvalue = [0, 0, 1]'),\n",
       " Text(125.55000000000001, 54.359999999999985, 'entropy = 0.0\\nsamples = 1\\nvalue = [0, 1, 0]'),\n",
       " Text(251.10000000000002, 90.6, 'X[2] <= 4.85\\nentropy = 0.064\\nsamples = 30\\nvalue = [0, 1, 29]'),\n",
       " Text(209.25, 54.359999999999985, 'X[1] <= 3.1\\nentropy = 0.444\\nsamples = 3\\nvalue = [0, 1, 2]'),\n",
       " Text(167.4, 18.119999999999976, 'entropy = 0.0\\nsamples = 2\\nvalue = [0, 0, 2]'),\n",
       " Text(251.10000000000002, 18.119999999999976, 'entropy = 0.0\\nsamples = 1\\nvalue = [0, 1, 0]'),\n",
       " Text(292.95, 54.359999999999985, 'entropy = 0.0\\nsamples = 27\\nvalue = [0, 0, 27]')]"
      ]
     },
     "execution_count": 62,
     "metadata": {},
     "output_type": "execute_result"
    },
    {
     "data": {
      "image/png": "[encoded data removed]",
      "text/plain": [
       "<Figure size 432x288 with 1 Axes>"
      ]
     },
     "metadata": {
      "needs_background": "light"
     },
     "output_type": "display_data"
    }
   ],
   "source": [
    "ax = tree.plot_tree(clf);\n",
    "ax"
   ]
  },
  {
   "cell_type": "code",
   "execution_count": 63,
   "metadata": {},
   "outputs": [
    {
     "data": {
      "text/plain": [
       "0.9333333333333333"
      ]
     },
     "execution_count": 63,
     "metadata": {},
     "output_type": "execute_result"
    }
   ],
   "source": [
    "from sklearn.metrics import roc_curve, roc_auc_score, accuracy_score\n",
    "accuracy_score(y_test, y_hat)"
   ]
  },
  {
   "cell_type": "markdown",
   "metadata": {},
   "source": [
    "## Random Forest"
   ]
  },
  {
   "cell_type": "code",
   "execution_count": 67,
   "metadata": {},
   "outputs": [
    {
     "name": "stderr",
     "output_type": "stream",
     "text": [
      "C:\\Users\\cmsi\\AppData\\Local\\Continuum\\anaconda3\\lib\\site-packages\\sklearn\\ensemble\\forest.py:245: FutureWarning: The default value of n_estimators will change from 10 in version 0.20 to 100 in 0.22.\n",
      "  \"10 in version 0.20 to 100 in 0.22.\", FutureWarning)\n"
     ]
    },
    {
     "data": {
      "text/plain": [
       "0.9666666666666667"
      ]
     },
     "execution_count": 67,
     "metadata": {},
     "output_type": "execute_result"
    }
   ],
   "source": [
    "from sklearn.ensemble import RandomForestClassifier\n",
    "\n",
    "clf = RandomForestClassifier()\n",
    "clf = clf.fit(X_train, y_train)\n",
    "y_hat = clf.predict(X_test)\n",
    "accuracy_score(y_test, y_hat)"
   ]
  }
 ],
 "metadata": {
  "kernelspec": {
   "display_name": "Python 3",
   "language": "python",
   "name": "python3"
  },
  "language_info": {
   "codemirror_mode": {
    "name": "ipython",
    "version": 3
   },
   "file_extension": ".py",
   "mimetype": "text/x-python",
   "name": "python",
   "nbconvert_exporter": "python",
   "pygments_lexer": "ipython3",
   "version": "3.7.3"
  }
 },
 "nbformat": 4,
 "nbformat_minor": 2
}
